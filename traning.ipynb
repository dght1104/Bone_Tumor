{
 "cells": [
  {
   "cell_type": "markdown",
   "id": "da7a5d8c",
   "metadata": {
    "papermill": {
     "duration": 0.004265,
     "end_time": "2025-03-21T20:50:18.846626",
     "exception": false,
     "start_time": "2025-03-21T20:50:18.842361",
     "status": "completed"
    },
    "tags": []
   },
   "source": [
    "# **Bước 0: Import thư viện**"
   ]
  },
  {
   "cell_type": "code",
   "execution_count": 1,
   "id": "49813c59",
   "metadata": {
    "_cell_guid": "b1076dfc-b9ad-4769-8c92-a6c4dae69d19",
    "_uuid": "8f2839f25d086af736a60e9eeb907d3b93b6e0e5",
    "execution": {
     "iopub.execute_input": "2025-03-21T20:50:18.854850Z",
     "iopub.status.busy": "2025-03-21T20:50:18.854604Z",
     "iopub.status.idle": "2025-03-21T20:50:33.880255Z",
     "shell.execute_reply": "2025-03-21T20:50:33.879608Z"
    },
    "papermill": {
     "duration": 15.031359,
     "end_time": "2025-03-21T20:50:33.881814",
     "exception": false,
     "start_time": "2025-03-21T20:50:18.850455",
     "status": "completed"
    },
    "tags": []
   },
   "outputs": [],
   "source": [
    "import keras\n",
    "import os\n",
    "import glob\n",
    "import json\n",
    "import cv2\n",
    "import numpy as np\n",
    "import matplotlib.pyplot as plt\n",
    "from sklearn.model_selection import train_test_split\n",
    "import random\n",
    "import shutil\n",
    "from tensorflow.keras import models, layers,Input\n",
    "from tensorflow.keras.preprocessing.image import ImageDataGenerator"
   ]
  },
  {
   "cell_type": "markdown",
   "id": "0123b716",
   "metadata": {
    "papermill": {
     "duration": 0.003562,
     "end_time": "2025-03-21T20:50:33.889328",
     "exception": false,
     "start_time": "2025-03-21T20:50:33.885766",
     "status": "completed"
    },
    "tags": []
   },
   "source": [
    "# **Bước 1: Đọc ảnh và file JSON**"
   ]
  },
  {
   "cell_type": "code",
   "execution_count": 2,
   "id": "fe7614ea",
   "metadata": {
    "execution": {
     "iopub.execute_input": "2025-03-21T20:50:33.897402Z",
     "iopub.status.busy": "2025-03-21T20:50:33.896945Z",
     "iopub.status.idle": "2025-03-21T20:50:33.902978Z",
     "shell.execute_reply": "2025-03-21T20:50:33.902277Z"
    },
    "papermill": {
     "duration": 0.01143,
     "end_time": "2025-03-21T20:50:33.904321",
     "exception": false,
     "start_time": "2025-03-21T20:50:33.892891",
     "status": "completed"
    },
    "tags": []
   },
   "outputs": [
    {
     "name": "stdout",
     "output_type": "stream",
     "text": [
      "✅ Đã tạo thư mục: /kaggle/working/processed_images\n",
      "✅ Đã tạo thư mục: /kaggle/working/processed_annotations\n"
     ]
    }
   ],
   "source": [
    "# Đường dẫn thư mục dữ liệu gốc\n",
    "IMAGE_DIR = \"/kaggle/input/btxrd-data/BTXRD/BTXRD/images\"\n",
    "JSON_DIR = \"/kaggle/input/btxrd-data/BTXRD/BTXRD/Annotations\"\n",
    "\n",
    "# Thư mục lưu kết quả sau khi xử lý\n",
    "OUTPUT_IMAGE_DIR = \"/kaggle/working/processed_images\"\n",
    "OUTPUT_JSON_DIR = \"/kaggle/working/processed_annotations\"\n",
    "\n",
    "if not os.path.exists(OUTPUT_IMAGE_DIR):\n",
    "    os.makedirs(OUTPUT_IMAGE_DIR, exist_ok=True)  # Tạo thư mục nếu chưa có\n",
    "    print(f\"✅ Đã tạo thư mục: {OUTPUT_IMAGE_DIR}\")\n",
    "else:\n",
    "    print(f\"✅ Thư mục đã tồn tại: {OUTPUT_IMAGE_DIR}\")\n",
    "\n",
    "if not os.path.exists(OUTPUT_JSON_DIR):\n",
    "    os.makedirs(OUTPUT_JSON_DIR, exist_ok=True)  # Tạo thư mục nếu chưa có\n",
    "    print(f\"✅ Đã tạo thư mục: {OUTPUT_JSON_DIR}\")\n",
    "else:\n",
    "    print(f\"✅ Thư mục đã tồn tại: {OUTPUT_JSON_DIR}\")"
   ]
  },
  {
   "cell_type": "markdown",
   "id": "5f05da27",
   "metadata": {
    "papermill": {
     "duration": 0.003509,
     "end_time": "2025-03-21T20:50:33.911558",
     "exception": false,
     "start_time": "2025-03-21T20:50:33.908049",
     "status": "completed"
    },
    "tags": []
   },
   "source": [
    "# ** Bước 2: Tiền xử lý dữ liệu**"
   ]
  },
  {
   "cell_type": "markdown",
   "id": "731ec4b3",
   "metadata": {
    "papermill": {
     "duration": 0.003388,
     "end_time": "2025-03-21T20:50:33.918504",
     "exception": false,
     "start_time": "2025-03-21T20:50:33.915116",
     "status": "completed"
    },
    "tags": []
   },
   "source": [
    "Resize ảnh về kích thước cố định nhưng không méo hình.  \n",
    "Padding ảnh để giữ nguyên tỷ lệ.  \n",
    "Cập nhật tọa độ vùng ung thư trong JSON để không bị sai lệch.  "
   ]
  },
  {
   "cell_type": "code",
   "execution_count": 3,
   "id": "9ebe7640",
   "metadata": {
    "execution": {
     "iopub.execute_input": "2025-03-21T20:50:33.926259Z",
     "iopub.status.busy": "2025-03-21T20:50:33.926031Z",
     "iopub.status.idle": "2025-03-21T20:50:33.931870Z",
     "shell.execute_reply": "2025-03-21T20:50:33.931080Z"
    },
    "papermill": {
     "duration": 0.011176,
     "end_time": "2025-03-21T20:50:33.933168",
     "exception": false,
     "start_time": "2025-03-21T20:50:33.921992",
     "status": "completed"
    },
    "tags": []
   },
   "outputs": [],
   "source": [
    "def resize_and_pad_image(img_path, json_path):\n",
    "    \"\"\" Resize ảnh về kích thước chuẩn và cập nhật tọa độ vùng ung thư trong JSON. \"\"\"\n",
    "    # Đọc ảnh gốc\n",
    "    img = cv2.imread(img_path, cv2.IMREAD_GRAYSCALE)\n",
    "    h, w = img.shape\n",
    "\n",
    "    # Tính tỷ lệ resize để không làm méo ảnh\n",
    "    scale = min(TARGET_SIZE[0] / w, TARGET_SIZE[1] / h)\n",
    "    new_w, new_h = int(w * scale), int(h * scale)\n",
    "    \n",
    "    # Resize ảnh\n",
    "    resized_img = cv2.resize(img, (new_w, new_h))\n",
    "\n",
    "    # Tạo ảnh nền trắng để pad\n",
    "    final_img = np.ones((TARGET_SIZE[1], TARGET_SIZE[0]), dtype=np.float32) * 255\n",
    "    x_offset = (TARGET_SIZE[0] - new_w) // 2\n",
    "    y_offset = (TARGET_SIZE[1] - new_h) // 2\n",
    "\n",
    "    # Đưa ảnh vào trung tâm\n",
    "    final_img[y_offset:y_offset + new_h, x_offset:x_offset + new_w] = resized_img\n",
    "\n",
    "    # Cập nhật JSON\n",
    "    with open(json_path, \"r\") as f:\n",
    "        data = json.load(f)\n",
    "\n",
    "    # Cập nhật tọa độ vùng tổn thương\n",
    "    for shape in data[\"shapes\"]:\n",
    "        updated_points = []\n",
    "        for point in shape[\"points\"]:\n",
    "            x_new = point[0] * scale + x_offset\n",
    "            y_new = point[1] * scale + y_offset\n",
    "            updated_points.append([x_new, y_new])\n",
    "\n",
    "        shape[\"points\"] = updated_points\n",
    "\n",
    "    return final_img / 255.0, data"
   ]
  },
  {
   "cell_type": "code",
   "execution_count": 4,
   "id": "caedbdc3",
   "metadata": {
    "execution": {
     "iopub.execute_input": "2025-03-21T20:50:33.941189Z",
     "iopub.status.busy": "2025-03-21T20:50:33.940983Z",
     "iopub.status.idle": "2025-03-21T20:51:45.858983Z",
     "shell.execute_reply": "2025-03-21T20:51:45.858040Z"
    },
    "papermill": {
     "duration": 71.927005,
     "end_time": "2025-03-21T20:51:45.863855",
     "exception": false,
     "start_time": "2025-03-21T20:50:33.936850",
     "status": "completed"
    },
    "tags": []
   },
   "outputs": [
    {
     "name": "stdout",
     "output_type": "stream",
     "text": [
      "✅ Xử lý hoàn tất. Ảnh và JSON đã được lưu tại /kaggle/working/processed_images và /kaggle/working/processed_annotations\n"
     ]
    }
   ],
   "source": [
    "TARGET_SIZE = (224, 294)  # (width, height)\n",
    "\n",
    "# Duyệt qua tất cả ảnh trong thư mục\n",
    "image_paths = glob.glob(IMAGE_DIR + \"/*.png\") + glob.glob(IMAGE_DIR + \"/*.jpg\") + glob.glob(IMAGE_DIR + \"/*.jpeg\")\n",
    "\n",
    "for img_path in image_paths:\n",
    "    filename = os.path.basename(img_path).split('.')[0]  # Lấy tên file không có đuôi\n",
    "    json_path = os.path.join(JSON_DIR, filename + \".json\")  # Tìm file JSON tương ứng\n",
    "    \n",
    "    if os.path.exists(json_path):\n",
    "        # Xử lý ảnh + tọa độ ung thư\n",
    "        processed_img, updated_annotations = resize_and_pad_image(img_path, json_path)\n",
    "\n",
    "        if processed_img is not None:\n",
    "            # Lưu ảnh mới\n",
    "            output_img_path = os.path.join(OUTPUT_IMAGE_DIR, filename + \".jpg\")\n",
    "            cv2.imwrite(output_img_path, (processed_img * 255).astype(np.uint8))  # Chuyển về 0-255\n",
    "\n",
    "            # Lưu JSON mới\n",
    "            output_json_path = os.path.join(OUTPUT_JSON_DIR, filename + \".json\")\n",
    "            with open(output_json_path, \"w\") as f:\n",
    "                json.dump(updated_annotations, f, indent=4)\n",
    "    else:\n",
    "        # Xử lý ảnh không có JSON\n",
    "        img = cv2.imread(img_path, cv2.IMREAD_GRAYSCALE)\n",
    "        processed_img = cv2.resize(img, TARGET_SIZE)  # Resize ảnh về đúng kích thước\n",
    "\n",
    "        # Lưu ảnh đã resize vào thư mục OUTPUT_IMAGE_DIR\n",
    "        output_img_path = os.path.join(OUTPUT_IMAGE_DIR, filename + \".jpg\")\n",
    "        cv2.imwrite(output_img_path, processed_img)\n",
    "\n",
    "print(\"✅ Xử lý hoàn tất. Ảnh và JSON đã được lưu tại\", OUTPUT_IMAGE_DIR, \"và\", OUTPUT_JSON_DIR)\n"
   ]
  },
  {
   "cell_type": "markdown",
   "id": "bf1f113e",
   "metadata": {
    "papermill": {
     "duration": 0.003545,
     "end_time": "2025-03-21T20:51:45.871249",
     "exception": false,
     "start_time": "2025-03-21T20:51:45.867704",
     "status": "completed"
    },
    "tags": []
   },
   "source": [
    "# **Bước 3: Phân chia bộ test và train**"
   ]
  },
  {
   "cell_type": "markdown",
   "id": "6875eae9",
   "metadata": {
    "papermill": {
     "duration": 0.003464,
     "end_time": "2025-03-21T20:51:45.878284",
     "exception": false,
     "start_time": "2025-03-21T20:51:45.874820",
     "status": "completed"
    },
    "tags": []
   },
   "source": [
    "Phân chia ảnh thành 80% train và 20% test"
   ]
  },
  {
   "cell_type": "code",
   "execution_count": 5,
   "id": "fc5f76c4",
   "metadata": {
    "execution": {
     "iopub.execute_input": "2025-03-21T20:51:45.886402Z",
     "iopub.status.busy": "2025-03-21T20:51:45.886164Z",
     "iopub.status.idle": "2025-03-21T20:51:46.291026Z",
     "shell.execute_reply": "2025-03-21T20:51:46.290019Z"
    },
    "papermill": {
     "duration": 0.410418,
     "end_time": "2025-03-21T20:51:46.292450",
     "exception": false,
     "start_time": "2025-03-21T20:51:45.882032",
     "status": "completed"
    },
    "tags": []
   },
   "outputs": [
    {
     "name": "stdout",
     "output_type": "stream",
     "text": [
      "✅ Chia tập dữ liệu hoàn tất!\n"
     ]
    }
   ],
   "source": [
    "OUTPUT_DIR = \"/kaggle/working/\"\n",
    "# Tạo thư mục train, test, val\n",
    "for folder in [\"train\", \"test\", \"val\"]:\n",
    "    os.makedirs(os.path.join(OUTPUT_DIR, folder), exist_ok=True)\n",
    "\n",
    "# Lấy danh sách ảnh\n",
    "image_paths = glob.glob(os.path.join(OUTPUT_IMAGE_DIR, \"*.jpg\")) + \\\n",
    "              glob.glob(os.path.join(OUTPUT_IMAGE_DIR, \"*.jpeg\"))\n",
    "\n",
    "# Shuffle dữ liệu để chia ngẫu nhiên\n",
    "random.seed(42)\n",
    "random.shuffle(image_paths)\n",
    "\n",
    "# Chia theo tỷ lệ 70% train - 20% test - 10% validation\n",
    "train_idx = int(0.7 * len(image_paths))\n",
    "test_idx = int(0.9 * len(image_paths))  # Sau train, còn 30%, chia tiếp thành 20% test + 10% val\n",
    "\n",
    "train_images = image_paths[:train_idx]\n",
    "test_images = image_paths[train_idx:test_idx]\n",
    "val_images = image_paths[test_idx:]\n",
    "\n",
    "# Di chuyển ảnh vào thư mục tương ứng\n",
    "for img_path in train_images:\n",
    "    shutil.copy(img_path, os.path.join(OUTPUT_DIR, \"train\", os.path.basename(img_path)))\n",
    "\n",
    "for img_path in test_images:\n",
    "    shutil.copy(img_path, os.path.join(OUTPUT_DIR, \"test\", os.path.basename(img_path)))\n",
    "\n",
    "for img_path in val_images:\n",
    "    shutil.copy(img_path, os.path.join(OUTPUT_DIR, \"val\", os.path.basename(img_path)))\n",
    "\n",
    "print(\"✅ Chia tập dữ liệu hoàn tất!\")"
   ]
  },
  {
   "cell_type": "code",
   "execution_count": 6,
   "id": "65743548",
   "metadata": {
    "execution": {
     "iopub.execute_input": "2025-03-21T20:51:46.301220Z",
     "iopub.status.busy": "2025-03-21T20:51:46.300967Z",
     "iopub.status.idle": "2025-03-21T20:51:46.307857Z",
     "shell.execute_reply": "2025-03-21T20:51:46.307196Z"
    },
    "papermill": {
     "duration": 0.012333,
     "end_time": "2025-03-21T20:51:46.309021",
     "exception": false,
     "start_time": "2025-03-21T20:51:46.296688",
     "status": "completed"
    },
    "tags": []
   },
   "outputs": [
    {
     "name": "stdout",
     "output_type": "stream",
     "text": [
      "📂 Số lượng file trong /kaggle/working/test: 749\n",
      "📂 Số lượng file trong /kaggle/working/train: 2622\n",
      "📂 Số lượng file trong /kaggle/working/val: 375\n"
     ]
    }
   ],
   "source": [
    "import os\n",
    "\n",
    "test_path = \"/kaggle/working/test\" \n",
    "test_files = len(os.listdir(test_path))\n",
    "print(f\"📂 Số lượng file trong {test_path}: {test_files}\")\n",
    "\n",
    "benign_path = \"/kaggle/working/train\" \n",
    "benign_files = len(os.listdir(benign_path)) \n",
    "print(f\"📂 Số lượng file trong {benign_path}: {benign_files}\")\n",
    "\n",
    "malignant_path = \"/kaggle/working/val\"\n",
    "malignant_files = len(os.listdir(malignant_path)) \n",
    "print(f\"📂 Số lượng file trong {malignant_path}: {malignant_files}\")"
   ]
  },
  {
   "cell_type": "code",
   "execution_count": 7,
   "id": "cfd3a17d",
   "metadata": {
    "execution": {
     "iopub.execute_input": "2025-03-21T20:51:46.317468Z",
     "iopub.status.busy": "2025-03-21T20:51:46.317260Z",
     "iopub.status.idle": "2025-03-21T20:51:46.423800Z",
     "shell.execute_reply": "2025-03-21T20:51:46.423043Z"
    },
    "papermill": {
     "duration": 0.112004,
     "end_time": "2025-03-21T20:51:46.425047",
     "exception": false,
     "start_time": "2025-03-21T20:51:46.313043",
     "status": "completed"
    },
    "tags": []
   },
   "outputs": [
    {
     "name": "stdout",
     "output_type": "stream",
     "text": [
      "✅ Phân loại ảnh trong train hoàn tất!\n"
     ]
    }
   ],
   "source": [
    "# Thư mục train gốc\n",
    "TRAIN_DIR = \"/kaggle/working/train\"\n",
    "OUTPUT_JSON_DIR = \"/kaggle/working/processed_annotations\"\n",
    "\n",
    "# Tạo thư mục benign/malignant trong train\n",
    "for folder in [\"benign\", \"malignant\"]:\n",
    "    os.makedirs(os.path.join(TRAIN_DIR, folder), exist_ok=True)\n",
    "\n",
    "# Lấy danh sách ảnh trong train\n",
    "train_images = glob.glob(os.path.join(TRAIN_DIR, \"*.jpg\")) + \\\n",
    "               glob.glob(os.path.join(TRAIN_DIR, \"*.jpeg\"))\n",
    "\n",
    "# Phân loại ảnh\n",
    "for img_path in train_images:\n",
    "    filename = os.path.basename(img_path)\n",
    "    json_path = os.path.join(OUTPUT_JSON_DIR, filename.replace(\".jpg\", \".json\"))\n",
    "\n",
    "    if os.path.exists(json_path):\n",
    "        dest_folder = \"malignant\"  # Có JSON -> malignant\n",
    "    else:\n",
    "        dest_folder = \"benign\"  # Không có JSON -> benign\n",
    "\n",
    "    shutil.move(img_path, os.path.join(TRAIN_DIR, dest_folder, filename))\n",
    "\n",
    "print(\"✅ Phân loại ảnh trong train hoàn tất!\")"
   ]
  },
  {
   "cell_type": "code",
   "execution_count": 8,
   "id": "89fcbac1",
   "metadata": {
    "execution": {
     "iopub.execute_input": "2025-03-21T20:51:46.433703Z",
     "iopub.status.busy": "2025-03-21T20:51:46.433446Z",
     "iopub.status.idle": "2025-03-21T20:51:46.467468Z",
     "shell.execute_reply": "2025-03-21T20:51:46.466613Z"
    },
    "papermill": {
     "duration": 0.039757,
     "end_time": "2025-03-21T20:51:46.468691",
     "exception": false,
     "start_time": "2025-03-21T20:51:46.428934",
     "status": "completed"
    },
    "tags": []
   },
   "outputs": [
    {
     "name": "stdout",
     "output_type": "stream",
     "text": [
      "✅ Phân loại ảnh trong train hoàn tất!\n"
     ]
    }
   ],
   "source": [
    "# Thư mục train gốc\n",
    "TEST_DIR = \"/kaggle/working/test\"\n",
    "OUTPUT_JSON_DIR = \"/kaggle/working/processed_annotations\"\n",
    "\n",
    "# Tạo thư mục benign/malignant trong train\n",
    "for folder in [\"benign\", \"malignant\"]:\n",
    "    os.makedirs(os.path.join(TEST_DIR, folder), exist_ok=True)\n",
    "\n",
    "# Lấy danh sách ảnh trong train\n",
    "train_images = glob.glob(os.path.join(TEST_DIR, \"*.jpg\")) + \\\n",
    "               glob.glob(os.path.join(TEST_DIR, \"*.jpeg\"))\n",
    "\n",
    "# Phân loại ảnh\n",
    "for img_path in train_images:\n",
    "    filename = os.path.basename(img_path)\n",
    "    json_path = os.path.join(OUTPUT_JSON_DIR, filename.replace(\".jpg\", \".json\"))\n",
    "\n",
    "    if os.path.exists(json_path):\n",
    "        dest_folder = \"malignant\"  # Có JSON -> malignant\n",
    "    else:\n",
    "        dest_folder = \"benign\"  # Không có JSON -> benign\n",
    "\n",
    "    shutil.move(img_path, os.path.join(TEST_DIR, dest_folder, filename))\n",
    "\n",
    "print(\"✅ Phân loại ảnh trong train hoàn tất!\")"
   ]
  },
  {
   "cell_type": "code",
   "execution_count": 9,
   "id": "ac0034a5",
   "metadata": {
    "execution": {
     "iopub.execute_input": "2025-03-21T20:51:46.477467Z",
     "iopub.status.busy": "2025-03-21T20:51:46.477266Z",
     "iopub.status.idle": "2025-03-21T20:51:46.489098Z",
     "shell.execute_reply": "2025-03-21T20:51:46.488188Z"
    },
    "papermill": {
     "duration": 0.017484,
     "end_time": "2025-03-21T20:51:46.490295",
     "exception": false,
     "start_time": "2025-03-21T20:51:46.472811",
     "status": "completed"
    },
    "tags": []
   },
   "outputs": [
    {
     "name": "stdout",
     "output_type": "stream",
     "text": [
      "📂 Số lượng ảnh trong train/benign: 1304\n",
      "📂 Số lượng ảnh trong train/malignant: 1318\n",
      "📂 Số lượng ảnh trong TEST/benign: 376\n",
      "📂 Số lượng ảnh trong TEST/malignant: 373\n"
     ]
    }
   ],
   "source": [
    "for folder in [\"benign\", \"malignant\"]:\n",
    "    count = len(glob.glob(os.path.join(TRAIN_DIR, folder, \"*.jpg\")))\n",
    "    print(f\"📂 Số lượng ảnh trong train/{folder}: {count}\")\n",
    "\n",
    "for folder in [\"benign\", \"malignant\"]:\n",
    "    count = len(glob.glob(os.path.join(TEST_DIR, folder, \"*.jpg\")))\n",
    "    print(f\"📂 Số lượng ảnh trong TEST/{folder}: {count}\")"
   ]
  },
  {
   "cell_type": "markdown",
   "id": "fe75d3ae",
   "metadata": {
    "papermill": {
     "duration": 0.003824,
     "end_time": "2025-03-21T20:51:46.498265",
     "exception": false,
     "start_time": "2025-03-21T20:51:46.494441",
     "status": "completed"
    },
    "tags": []
   },
   "source": [
    "# **Bước 4: Xây dựng hệ thống CNN**"
   ]
  },
  {
   "cell_type": "code",
   "execution_count": 10,
   "id": "ff2bcd35",
   "metadata": {
    "execution": {
     "iopub.execute_input": "2025-03-21T20:51:46.507080Z",
     "iopub.status.busy": "2025-03-21T20:51:46.506859Z",
     "iopub.status.idle": "2025-03-21T20:51:46.573143Z",
     "shell.execute_reply": "2025-03-21T20:51:46.572471Z"
    },
    "papermill": {
     "duration": 0.072057,
     "end_time": "2025-03-21T20:51:46.574207",
     "exception": false,
     "start_time": "2025-03-21T20:51:46.502150",
     "status": "completed"
    },
    "tags": []
   },
   "outputs": [
    {
     "name": "stdout",
     "output_type": "stream",
     "text": [
      "Found 2099 images belonging to 2 classes.\n",
      "Found 523 images belonging to 2 classes.\n",
      "Found 749 images belonging to 2 classes.\n",
      "✅ Load dữ liệu hoàn tất!\n"
     ]
    }
   ],
   "source": [
    "# Định nghĩa ImageDataGenerator cho train + validation\n",
    "train_datagen = ImageDataGenerator(\n",
    "    rescale=1./255,\n",
    "    rotation_range=20,\n",
    "    width_shift_range=0.2,\n",
    "    height_shift_range=0.2,\n",
    "    horizontal_flip=True,\n",
    "    validation_split=0.2  # 🔥 Chia 20% từ train làm validation\n",
    ")\n",
    "\n",
    "test_datagen = ImageDataGenerator(rescale=1./255)  # Chỉ cần chuẩn hóa cho test\n",
    "\n",
    "# Load ảnh từ thư mục train (chia train/val tự động)\n",
    "train_generator = train_datagen.flow_from_directory(\n",
    "    \"/kaggle/working/train\",  \n",
    "    target_size=(224, 294),\n",
    "    batch_size=32,\n",
    "    class_mode=\"categorical\",\n",
    "    subset=\"training\"  # 🔥 Chỉ lấy phần training (80%)\n",
    ")\n",
    "\n",
    "val_generator = train_datagen.flow_from_directory(\n",
    "    \"/kaggle/working/train\",\n",
    "    target_size=(224, 294),\n",
    "    batch_size=32,\n",
    "    class_mode=\"categorical\",\n",
    "    subset=\"validation\"  # 🔥 Chỉ lấy phần validation (20%)\n",
    ")\n",
    "\n",
    "# Load ảnh từ thư mục test\n",
    "test_generator = test_datagen.flow_from_directory(\n",
    "    \"/kaggle/working/test\",\n",
    "    target_size=(224, 294),\n",
    "    batch_size=32,\n",
    "    class_mode=\"categorical\",\n",
    "    shuffle=False  # Không shuffle để đảm bảo đánh giá đúng\n",
    ")\n",
    "\n",
    "print(\"✅ Load dữ liệu hoàn tất!\")"
   ]
  },
  {
   "cell_type": "code",
   "execution_count": 11,
   "id": "dacbac55",
   "metadata": {
    "execution": {
     "iopub.execute_input": "2025-03-21T20:51:46.583186Z",
     "iopub.status.busy": "2025-03-21T20:51:46.582964Z",
     "iopub.status.idle": "2025-03-21T20:51:49.141860Z",
     "shell.execute_reply": "2025-03-21T20:51:49.140908Z"
    },
    "papermill": {
     "duration": 2.56482,
     "end_time": "2025-03-21T20:51:49.143304",
     "exception": false,
     "start_time": "2025-03-21T20:51:46.578484",
     "status": "completed"
    },
    "tags": []
   },
   "outputs": [
    {
     "data": {
      "text/html": [
       "<pre style=\"white-space:pre;overflow-x:auto;line-height:normal;font-family:Menlo,'DejaVu Sans Mono',consolas,'Courier New',monospace\"><span style=\"font-weight: bold\">Model: \"sequential\"</span>\n",
       "</pre>\n"
      ],
      "text/plain": [
       "\u001b[1mModel: \"sequential\"\u001b[0m\n"
      ]
     },
     "metadata": {},
     "output_type": "display_data"
    },
    {
     "data": {
      "text/html": [
       "<pre style=\"white-space:pre;overflow-x:auto;line-height:normal;font-family:Menlo,'DejaVu Sans Mono',consolas,'Courier New',monospace\">┏━━━━━━━━━━━━━━━━━━━━━━━━━━━━━━━━━━━━━━┳━━━━━━━━━━━━━━━━━━━━━━━━━━━━━┳━━━━━━━━━━━━━━━━━┓\n",
       "┃<span style=\"font-weight: bold\"> Layer (type)                         </span>┃<span style=\"font-weight: bold\"> Output Shape                </span>┃<span style=\"font-weight: bold\">         Param # </span>┃\n",
       "┡━━━━━━━━━━━━━━━━━━━━━━━━━━━━━━━━━━━━━━╇━━━━━━━━━━━━━━━━━━━━━━━━━━━━━╇━━━━━━━━━━━━━━━━━┩\n",
       "│ conv2d (<span style=\"color: #0087ff; text-decoration-color: #0087ff\">Conv2D</span>)                      │ (<span style=\"color: #00d7ff; text-decoration-color: #00d7ff\">None</span>, <span style=\"color: #00af00; text-decoration-color: #00af00\">224</span>, <span style=\"color: #00af00; text-decoration-color: #00af00\">294</span>, <span style=\"color: #00af00; text-decoration-color: #00af00\">32</span>)        │             <span style=\"color: #00af00; text-decoration-color: #00af00\">896</span> │\n",
       "├──────────────────────────────────────┼─────────────────────────────┼─────────────────┤\n",
       "│ conv2d_1 (<span style=\"color: #0087ff; text-decoration-color: #0087ff\">Conv2D</span>)                    │ (<span style=\"color: #00d7ff; text-decoration-color: #00d7ff\">None</span>, <span style=\"color: #00af00; text-decoration-color: #00af00\">224</span>, <span style=\"color: #00af00; text-decoration-color: #00af00\">294</span>, <span style=\"color: #00af00; text-decoration-color: #00af00\">32</span>)        │           <span style=\"color: #00af00; text-decoration-color: #00af00\">9,248</span> │\n",
       "├──────────────────────────────────────┼─────────────────────────────┼─────────────────┤\n",
       "│ max_pooling2d (<span style=\"color: #0087ff; text-decoration-color: #0087ff\">MaxPooling2D</span>)         │ (<span style=\"color: #00d7ff; text-decoration-color: #00d7ff\">None</span>, <span style=\"color: #00af00; text-decoration-color: #00af00\">112</span>, <span style=\"color: #00af00; text-decoration-color: #00af00\">147</span>, <span style=\"color: #00af00; text-decoration-color: #00af00\">32</span>)        │               <span style=\"color: #00af00; text-decoration-color: #00af00\">0</span> │\n",
       "├──────────────────────────────────────┼─────────────────────────────┼─────────────────┤\n",
       "│ dropout (<span style=\"color: #0087ff; text-decoration-color: #0087ff\">Dropout</span>)                    │ (<span style=\"color: #00d7ff; text-decoration-color: #00d7ff\">None</span>, <span style=\"color: #00af00; text-decoration-color: #00af00\">112</span>, <span style=\"color: #00af00; text-decoration-color: #00af00\">147</span>, <span style=\"color: #00af00; text-decoration-color: #00af00\">32</span>)        │               <span style=\"color: #00af00; text-decoration-color: #00af00\">0</span> │\n",
       "├──────────────────────────────────────┼─────────────────────────────┼─────────────────┤\n",
       "│ conv2d_2 (<span style=\"color: #0087ff; text-decoration-color: #0087ff\">Conv2D</span>)                    │ (<span style=\"color: #00d7ff; text-decoration-color: #00d7ff\">None</span>, <span style=\"color: #00af00; text-decoration-color: #00af00\">112</span>, <span style=\"color: #00af00; text-decoration-color: #00af00\">147</span>, <span style=\"color: #00af00; text-decoration-color: #00af00\">64</span>)        │          <span style=\"color: #00af00; text-decoration-color: #00af00\">18,496</span> │\n",
       "├──────────────────────────────────────┼─────────────────────────────┼─────────────────┤\n",
       "│ conv2d_3 (<span style=\"color: #0087ff; text-decoration-color: #0087ff\">Conv2D</span>)                    │ (<span style=\"color: #00d7ff; text-decoration-color: #00d7ff\">None</span>, <span style=\"color: #00af00; text-decoration-color: #00af00\">112</span>, <span style=\"color: #00af00; text-decoration-color: #00af00\">147</span>, <span style=\"color: #00af00; text-decoration-color: #00af00\">64</span>)        │          <span style=\"color: #00af00; text-decoration-color: #00af00\">36,928</span> │\n",
       "├──────────────────────────────────────┼─────────────────────────────┼─────────────────┤\n",
       "│ max_pooling2d_1 (<span style=\"color: #0087ff; text-decoration-color: #0087ff\">MaxPooling2D</span>)       │ (<span style=\"color: #00d7ff; text-decoration-color: #00d7ff\">None</span>, <span style=\"color: #00af00; text-decoration-color: #00af00\">56</span>, <span style=\"color: #00af00; text-decoration-color: #00af00\">73</span>, <span style=\"color: #00af00; text-decoration-color: #00af00\">64</span>)          │               <span style=\"color: #00af00; text-decoration-color: #00af00\">0</span> │\n",
       "├──────────────────────────────────────┼─────────────────────────────┼─────────────────┤\n",
       "│ dropout_1 (<span style=\"color: #0087ff; text-decoration-color: #0087ff\">Dropout</span>)                  │ (<span style=\"color: #00d7ff; text-decoration-color: #00d7ff\">None</span>, <span style=\"color: #00af00; text-decoration-color: #00af00\">56</span>, <span style=\"color: #00af00; text-decoration-color: #00af00\">73</span>, <span style=\"color: #00af00; text-decoration-color: #00af00\">64</span>)          │               <span style=\"color: #00af00; text-decoration-color: #00af00\">0</span> │\n",
       "├──────────────────────────────────────┼─────────────────────────────┼─────────────────┤\n",
       "│ conv2d_4 (<span style=\"color: #0087ff; text-decoration-color: #0087ff\">Conv2D</span>)                    │ (<span style=\"color: #00d7ff; text-decoration-color: #00d7ff\">None</span>, <span style=\"color: #00af00; text-decoration-color: #00af00\">56</span>, <span style=\"color: #00af00; text-decoration-color: #00af00\">73</span>, <span style=\"color: #00af00; text-decoration-color: #00af00\">128</span>)         │          <span style=\"color: #00af00; text-decoration-color: #00af00\">73,856</span> │\n",
       "├──────────────────────────────────────┼─────────────────────────────┼─────────────────┤\n",
       "│ conv2d_5 (<span style=\"color: #0087ff; text-decoration-color: #0087ff\">Conv2D</span>)                    │ (<span style=\"color: #00d7ff; text-decoration-color: #00d7ff\">None</span>, <span style=\"color: #00af00; text-decoration-color: #00af00\">56</span>, <span style=\"color: #00af00; text-decoration-color: #00af00\">73</span>, <span style=\"color: #00af00; text-decoration-color: #00af00\">128</span>)         │         <span style=\"color: #00af00; text-decoration-color: #00af00\">147,584</span> │\n",
       "├──────────────────────────────────────┼─────────────────────────────┼─────────────────┤\n",
       "│ max_pooling2d_2 (<span style=\"color: #0087ff; text-decoration-color: #0087ff\">MaxPooling2D</span>)       │ (<span style=\"color: #00d7ff; text-decoration-color: #00d7ff\">None</span>, <span style=\"color: #00af00; text-decoration-color: #00af00\">28</span>, <span style=\"color: #00af00; text-decoration-color: #00af00\">36</span>, <span style=\"color: #00af00; text-decoration-color: #00af00\">128</span>)         │               <span style=\"color: #00af00; text-decoration-color: #00af00\">0</span> │\n",
       "├──────────────────────────────────────┼─────────────────────────────┼─────────────────┤\n",
       "│ dropout_2 (<span style=\"color: #0087ff; text-decoration-color: #0087ff\">Dropout</span>)                  │ (<span style=\"color: #00d7ff; text-decoration-color: #00d7ff\">None</span>, <span style=\"color: #00af00; text-decoration-color: #00af00\">28</span>, <span style=\"color: #00af00; text-decoration-color: #00af00\">36</span>, <span style=\"color: #00af00; text-decoration-color: #00af00\">128</span>)         │               <span style=\"color: #00af00; text-decoration-color: #00af00\">0</span> │\n",
       "├──────────────────────────────────────┼─────────────────────────────┼─────────────────┤\n",
       "│ conv2d_6 (<span style=\"color: #0087ff; text-decoration-color: #0087ff\">Conv2D</span>)                    │ (<span style=\"color: #00d7ff; text-decoration-color: #00d7ff\">None</span>, <span style=\"color: #00af00; text-decoration-color: #00af00\">28</span>, <span style=\"color: #00af00; text-decoration-color: #00af00\">36</span>, <span style=\"color: #00af00; text-decoration-color: #00af00\">256</span>)         │         <span style=\"color: #00af00; text-decoration-color: #00af00\">295,168</span> │\n",
       "├──────────────────────────────────────┼─────────────────────────────┼─────────────────┤\n",
       "│ conv2d_7 (<span style=\"color: #0087ff; text-decoration-color: #0087ff\">Conv2D</span>)                    │ (<span style=\"color: #00d7ff; text-decoration-color: #00d7ff\">None</span>, <span style=\"color: #00af00; text-decoration-color: #00af00\">28</span>, <span style=\"color: #00af00; text-decoration-color: #00af00\">36</span>, <span style=\"color: #00af00; text-decoration-color: #00af00\">256</span>)         │         <span style=\"color: #00af00; text-decoration-color: #00af00\">590,080</span> │\n",
       "├──────────────────────────────────────┼─────────────────────────────┼─────────────────┤\n",
       "│ max_pooling2d_3 (<span style=\"color: #0087ff; text-decoration-color: #0087ff\">MaxPooling2D</span>)       │ (<span style=\"color: #00d7ff; text-decoration-color: #00d7ff\">None</span>, <span style=\"color: #00af00; text-decoration-color: #00af00\">14</span>, <span style=\"color: #00af00; text-decoration-color: #00af00\">18</span>, <span style=\"color: #00af00; text-decoration-color: #00af00\">256</span>)         │               <span style=\"color: #00af00; text-decoration-color: #00af00\">0</span> │\n",
       "├──────────────────────────────────────┼─────────────────────────────┼─────────────────┤\n",
       "│ dropout_3 (<span style=\"color: #0087ff; text-decoration-color: #0087ff\">Dropout</span>)                  │ (<span style=\"color: #00d7ff; text-decoration-color: #00d7ff\">None</span>, <span style=\"color: #00af00; text-decoration-color: #00af00\">14</span>, <span style=\"color: #00af00; text-decoration-color: #00af00\">18</span>, <span style=\"color: #00af00; text-decoration-color: #00af00\">256</span>)         │               <span style=\"color: #00af00; text-decoration-color: #00af00\">0</span> │\n",
       "├──────────────────────────────────────┼─────────────────────────────┼─────────────────┤\n",
       "│ flatten (<span style=\"color: #0087ff; text-decoration-color: #0087ff\">Flatten</span>)                    │ (<span style=\"color: #00d7ff; text-decoration-color: #00d7ff\">None</span>, <span style=\"color: #00af00; text-decoration-color: #00af00\">64512</span>)               │               <span style=\"color: #00af00; text-decoration-color: #00af00\">0</span> │\n",
       "├──────────────────────────────────────┼─────────────────────────────┼─────────────────┤\n",
       "│ dense (<span style=\"color: #0087ff; text-decoration-color: #0087ff\">Dense</span>)                        │ (<span style=\"color: #00d7ff; text-decoration-color: #00d7ff\">None</span>, <span style=\"color: #00af00; text-decoration-color: #00af00\">512</span>)                 │      <span style=\"color: #00af00; text-decoration-color: #00af00\">33,030,656</span> │\n",
       "├──────────────────────────────────────┼─────────────────────────────┼─────────────────┤\n",
       "│ dropout_4 (<span style=\"color: #0087ff; text-decoration-color: #0087ff\">Dropout</span>)                  │ (<span style=\"color: #00d7ff; text-decoration-color: #00d7ff\">None</span>, <span style=\"color: #00af00; text-decoration-color: #00af00\">512</span>)                 │               <span style=\"color: #00af00; text-decoration-color: #00af00\">0</span> │\n",
       "├──────────────────────────────────────┼─────────────────────────────┼─────────────────┤\n",
       "│ dense_1 (<span style=\"color: #0087ff; text-decoration-color: #0087ff\">Dense</span>)                      │ (<span style=\"color: #00d7ff; text-decoration-color: #00d7ff\">None</span>, <span style=\"color: #00af00; text-decoration-color: #00af00\">2</span>)                   │           <span style=\"color: #00af00; text-decoration-color: #00af00\">1,026</span> │\n",
       "└──────────────────────────────────────┴─────────────────────────────┴─────────────────┘\n",
       "</pre>\n"
      ],
      "text/plain": [
       "┏━━━━━━━━━━━━━━━━━━━━━━━━━━━━━━━━━━━━━━┳━━━━━━━━━━━━━━━━━━━━━━━━━━━━━┳━━━━━━━━━━━━━━━━━┓\n",
       "┃\u001b[1m \u001b[0m\u001b[1mLayer (type)                        \u001b[0m\u001b[1m \u001b[0m┃\u001b[1m \u001b[0m\u001b[1mOutput Shape               \u001b[0m\u001b[1m \u001b[0m┃\u001b[1m \u001b[0m\u001b[1m        Param #\u001b[0m\u001b[1m \u001b[0m┃\n",
       "┡━━━━━━━━━━━━━━━━━━━━━━━━━━━━━━━━━━━━━━╇━━━━━━━━━━━━━━━━━━━━━━━━━━━━━╇━━━━━━━━━━━━━━━━━┩\n",
       "│ conv2d (\u001b[38;5;33mConv2D\u001b[0m)                      │ (\u001b[38;5;45mNone\u001b[0m, \u001b[38;5;34m224\u001b[0m, \u001b[38;5;34m294\u001b[0m, \u001b[38;5;34m32\u001b[0m)        │             \u001b[38;5;34m896\u001b[0m │\n",
       "├──────────────────────────────────────┼─────────────────────────────┼─────────────────┤\n",
       "│ conv2d_1 (\u001b[38;5;33mConv2D\u001b[0m)                    │ (\u001b[38;5;45mNone\u001b[0m, \u001b[38;5;34m224\u001b[0m, \u001b[38;5;34m294\u001b[0m, \u001b[38;5;34m32\u001b[0m)        │           \u001b[38;5;34m9,248\u001b[0m │\n",
       "├──────────────────────────────────────┼─────────────────────────────┼─────────────────┤\n",
       "│ max_pooling2d (\u001b[38;5;33mMaxPooling2D\u001b[0m)         │ (\u001b[38;5;45mNone\u001b[0m, \u001b[38;5;34m112\u001b[0m, \u001b[38;5;34m147\u001b[0m, \u001b[38;5;34m32\u001b[0m)        │               \u001b[38;5;34m0\u001b[0m │\n",
       "├──────────────────────────────────────┼─────────────────────────────┼─────────────────┤\n",
       "│ dropout (\u001b[38;5;33mDropout\u001b[0m)                    │ (\u001b[38;5;45mNone\u001b[0m, \u001b[38;5;34m112\u001b[0m, \u001b[38;5;34m147\u001b[0m, \u001b[38;5;34m32\u001b[0m)        │               \u001b[38;5;34m0\u001b[0m │\n",
       "├──────────────────────────────────────┼─────────────────────────────┼─────────────────┤\n",
       "│ conv2d_2 (\u001b[38;5;33mConv2D\u001b[0m)                    │ (\u001b[38;5;45mNone\u001b[0m, \u001b[38;5;34m112\u001b[0m, \u001b[38;5;34m147\u001b[0m, \u001b[38;5;34m64\u001b[0m)        │          \u001b[38;5;34m18,496\u001b[0m │\n",
       "├──────────────────────────────────────┼─────────────────────────────┼─────────────────┤\n",
       "│ conv2d_3 (\u001b[38;5;33mConv2D\u001b[0m)                    │ (\u001b[38;5;45mNone\u001b[0m, \u001b[38;5;34m112\u001b[0m, \u001b[38;5;34m147\u001b[0m, \u001b[38;5;34m64\u001b[0m)        │          \u001b[38;5;34m36,928\u001b[0m │\n",
       "├──────────────────────────────────────┼─────────────────────────────┼─────────────────┤\n",
       "│ max_pooling2d_1 (\u001b[38;5;33mMaxPooling2D\u001b[0m)       │ (\u001b[38;5;45mNone\u001b[0m, \u001b[38;5;34m56\u001b[0m, \u001b[38;5;34m73\u001b[0m, \u001b[38;5;34m64\u001b[0m)          │               \u001b[38;5;34m0\u001b[0m │\n",
       "├──────────────────────────────────────┼─────────────────────────────┼─────────────────┤\n",
       "│ dropout_1 (\u001b[38;5;33mDropout\u001b[0m)                  │ (\u001b[38;5;45mNone\u001b[0m, \u001b[38;5;34m56\u001b[0m, \u001b[38;5;34m73\u001b[0m, \u001b[38;5;34m64\u001b[0m)          │               \u001b[38;5;34m0\u001b[0m │\n",
       "├──────────────────────────────────────┼─────────────────────────────┼─────────────────┤\n",
       "│ conv2d_4 (\u001b[38;5;33mConv2D\u001b[0m)                    │ (\u001b[38;5;45mNone\u001b[0m, \u001b[38;5;34m56\u001b[0m, \u001b[38;5;34m73\u001b[0m, \u001b[38;5;34m128\u001b[0m)         │          \u001b[38;5;34m73,856\u001b[0m │\n",
       "├──────────────────────────────────────┼─────────────────────────────┼─────────────────┤\n",
       "│ conv2d_5 (\u001b[38;5;33mConv2D\u001b[0m)                    │ (\u001b[38;5;45mNone\u001b[0m, \u001b[38;5;34m56\u001b[0m, \u001b[38;5;34m73\u001b[0m, \u001b[38;5;34m128\u001b[0m)         │         \u001b[38;5;34m147,584\u001b[0m │\n",
       "├──────────────────────────────────────┼─────────────────────────────┼─────────────────┤\n",
       "│ max_pooling2d_2 (\u001b[38;5;33mMaxPooling2D\u001b[0m)       │ (\u001b[38;5;45mNone\u001b[0m, \u001b[38;5;34m28\u001b[0m, \u001b[38;5;34m36\u001b[0m, \u001b[38;5;34m128\u001b[0m)         │               \u001b[38;5;34m0\u001b[0m │\n",
       "├──────────────────────────────────────┼─────────────────────────────┼─────────────────┤\n",
       "│ dropout_2 (\u001b[38;5;33mDropout\u001b[0m)                  │ (\u001b[38;5;45mNone\u001b[0m, \u001b[38;5;34m28\u001b[0m, \u001b[38;5;34m36\u001b[0m, \u001b[38;5;34m128\u001b[0m)         │               \u001b[38;5;34m0\u001b[0m │\n",
       "├──────────────────────────────────────┼─────────────────────────────┼─────────────────┤\n",
       "│ conv2d_6 (\u001b[38;5;33mConv2D\u001b[0m)                    │ (\u001b[38;5;45mNone\u001b[0m, \u001b[38;5;34m28\u001b[0m, \u001b[38;5;34m36\u001b[0m, \u001b[38;5;34m256\u001b[0m)         │         \u001b[38;5;34m295,168\u001b[0m │\n",
       "├──────────────────────────────────────┼─────────────────────────────┼─────────────────┤\n",
       "│ conv2d_7 (\u001b[38;5;33mConv2D\u001b[0m)                    │ (\u001b[38;5;45mNone\u001b[0m, \u001b[38;5;34m28\u001b[0m, \u001b[38;5;34m36\u001b[0m, \u001b[38;5;34m256\u001b[0m)         │         \u001b[38;5;34m590,080\u001b[0m │\n",
       "├──────────────────────────────────────┼─────────────────────────────┼─────────────────┤\n",
       "│ max_pooling2d_3 (\u001b[38;5;33mMaxPooling2D\u001b[0m)       │ (\u001b[38;5;45mNone\u001b[0m, \u001b[38;5;34m14\u001b[0m, \u001b[38;5;34m18\u001b[0m, \u001b[38;5;34m256\u001b[0m)         │               \u001b[38;5;34m0\u001b[0m │\n",
       "├──────────────────────────────────────┼─────────────────────────────┼─────────────────┤\n",
       "│ dropout_3 (\u001b[38;5;33mDropout\u001b[0m)                  │ (\u001b[38;5;45mNone\u001b[0m, \u001b[38;5;34m14\u001b[0m, \u001b[38;5;34m18\u001b[0m, \u001b[38;5;34m256\u001b[0m)         │               \u001b[38;5;34m0\u001b[0m │\n",
       "├──────────────────────────────────────┼─────────────────────────────┼─────────────────┤\n",
       "│ flatten (\u001b[38;5;33mFlatten\u001b[0m)                    │ (\u001b[38;5;45mNone\u001b[0m, \u001b[38;5;34m64512\u001b[0m)               │               \u001b[38;5;34m0\u001b[0m │\n",
       "├──────────────────────────────────────┼─────────────────────────────┼─────────────────┤\n",
       "│ dense (\u001b[38;5;33mDense\u001b[0m)                        │ (\u001b[38;5;45mNone\u001b[0m, \u001b[38;5;34m512\u001b[0m)                 │      \u001b[38;5;34m33,030,656\u001b[0m │\n",
       "├──────────────────────────────────────┼─────────────────────────────┼─────────────────┤\n",
       "│ dropout_4 (\u001b[38;5;33mDropout\u001b[0m)                  │ (\u001b[38;5;45mNone\u001b[0m, \u001b[38;5;34m512\u001b[0m)                 │               \u001b[38;5;34m0\u001b[0m │\n",
       "├──────────────────────────────────────┼─────────────────────────────┼─────────────────┤\n",
       "│ dense_1 (\u001b[38;5;33mDense\u001b[0m)                      │ (\u001b[38;5;45mNone\u001b[0m, \u001b[38;5;34m2\u001b[0m)                   │           \u001b[38;5;34m1,026\u001b[0m │\n",
       "└──────────────────────────────────────┴─────────────────────────────┴─────────────────┘\n"
      ]
     },
     "metadata": {},
     "output_type": "display_data"
    },
    {
     "data": {
      "text/html": [
       "<pre style=\"white-space:pre;overflow-x:auto;line-height:normal;font-family:Menlo,'DejaVu Sans Mono',consolas,'Courier New',monospace\"><span style=\"font-weight: bold\"> Total params: </span><span style=\"color: #00af00; text-decoration-color: #00af00\">34,203,938</span> (130.48 MB)\n",
       "</pre>\n"
      ],
      "text/plain": [
       "\u001b[1m Total params: \u001b[0m\u001b[38;5;34m34,203,938\u001b[0m (130.48 MB)\n"
      ]
     },
     "metadata": {},
     "output_type": "display_data"
    },
    {
     "data": {
      "text/html": [
       "<pre style=\"white-space:pre;overflow-x:auto;line-height:normal;font-family:Menlo,'DejaVu Sans Mono',consolas,'Courier New',monospace\"><span style=\"font-weight: bold\"> Trainable params: </span><span style=\"color: #00af00; text-decoration-color: #00af00\">34,203,938</span> (130.48 MB)\n",
       "</pre>\n"
      ],
      "text/plain": [
       "\u001b[1m Trainable params: \u001b[0m\u001b[38;5;34m34,203,938\u001b[0m (130.48 MB)\n"
      ]
     },
     "metadata": {},
     "output_type": "display_data"
    },
    {
     "data": {
      "text/html": [
       "<pre style=\"white-space:pre;overflow-x:auto;line-height:normal;font-family:Menlo,'DejaVu Sans Mono',consolas,'Courier New',monospace\"><span style=\"font-weight: bold\"> Non-trainable params: </span><span style=\"color: #00af00; text-decoration-color: #00af00\">0</span> (0.00 B)\n",
       "</pre>\n"
      ],
      "text/plain": [
       "\u001b[1m Non-trainable params: \u001b[0m\u001b[38;5;34m0\u001b[0m (0.00 B)\n"
      ]
     },
     "metadata": {},
     "output_type": "display_data"
    }
   ],
   "source": [
    "model = models.Sequential([\n",
    "    Input(shape=(224, 294, 3)),  \n",
    "    layers.Conv2D(32, (3,3), activation='relu', padding='same'),\n",
    "    layers.Conv2D(32, (3,3), activation='relu', padding='same'),\n",
    "    layers.MaxPooling2D((2,2)),\n",
    "    layers.Dropout(0.25),\n",
    "\n",
    "    layers.Conv2D(64, (3,3), activation='relu', padding='same'),\n",
    "    layers.Conv2D(64, (3,3), activation='relu', padding='same'),\n",
    "    layers.MaxPooling2D((2,2)),\n",
    "    layers.Dropout(0.25),\n",
    "\n",
    "    layers.Conv2D(128, (3,3), activation='relu', padding='same'),\n",
    "    layers.Conv2D(128, (3,3), activation='relu', padding='same'),\n",
    "    layers.MaxPooling2D((2,2)),\n",
    "    layers.Dropout(0.25),\n",
    "\n",
    "    layers.Conv2D(256, (3,3), activation='relu', padding='same'),\n",
    "    layers.Conv2D(256, (3,3), activation='relu', padding='same'),\n",
    "    layers.MaxPooling2D((2,2)),\n",
    "    layers.Dropout(0.25),\n",
    "\n",
    "    layers.Flatten(),\n",
    "    layers.Dense(512, activation='relu'),\n",
    "    layers.Dropout(0.5),\n",
    "    layers.Dense(2, activation='softmax')  # Sửa lại số lớp đầu ra\n",
    "])\n",
    "\n",
    "model.compile(optimizer='adam',\n",
    "              loss='categorical_crossentropy',\n",
    "              metrics=['accuracy'])\n",
    "\n",
    "model.summary()"
   ]
  },
  {
   "cell_type": "markdown",
   "id": "d1397ab5",
   "metadata": {
    "papermill": {
     "duration": 0.005,
     "end_time": "2025-03-21T20:51:49.154439",
     "exception": false,
     "start_time": "2025-03-21T20:51:49.149439",
     "status": "completed"
    },
    "tags": []
   },
   "source": [
    "# **Huấn luyện mô hình**"
   ]
  },
  {
   "cell_type": "code",
   "execution_count": 12,
   "id": "52ba3031",
   "metadata": {
    "execution": {
     "iopub.execute_input": "2025-03-21T20:51:49.165167Z",
     "iopub.status.busy": "2025-03-21T20:51:49.164932Z",
     "iopub.status.idle": "2025-03-21T21:05:06.074430Z",
     "shell.execute_reply": "2025-03-21T21:05:06.073552Z"
    },
    "papermill": {
     "duration": 796.916372,
     "end_time": "2025-03-21T21:05:06.076005",
     "exception": false,
     "start_time": "2025-03-21T20:51:49.159633",
     "status": "completed"
    },
    "tags": []
   },
   "outputs": [
    {
     "name": "stdout",
     "output_type": "stream",
     "text": [
      "Epoch 1/20\n"
     ]
    },
    {
     "name": "stderr",
     "output_type": "stream",
     "text": [
      "/usr/local/lib/python3.10/dist-packages/keras/src/trainers/data_adapters/py_dataset_adapter.py:122: UserWarning: Your `PyDataset` class should call `super().__init__(**kwargs)` in its constructor. `**kwargs` can include `workers`, `use_multiprocessing`, `max_queue_size`. Do not pass these arguments to `fit()`, as they will be ignored.\n",
      "  self._warn_if_super_not_called()\n"
     ]
    },
    {
     "name": "stdout",
     "output_type": "stream",
     "text": [
      "\u001b[1m66/66\u001b[0m \u001b[32m━━━━━━━━━━━━━━━━━━━━\u001b[0m\u001b[37m\u001b[0m \u001b[1m90s\u001b[0m 928ms/step - accuracy: 0.7711 - loss: 0.4112 - val_accuracy: 0.7763 - val_loss: 0.3589\n",
      "Epoch 2/20\n",
      "\u001b[1m66/66\u001b[0m \u001b[32m━━━━━━━━━━━━━━━━━━━━\u001b[0m\u001b[37m\u001b[0m \u001b[1m37s\u001b[0m 519ms/step - accuracy: 0.9700 - loss: 0.1104 - val_accuracy: 0.5354 - val_loss: 0.7781\n",
      "Epoch 3/20\n",
      "\u001b[1m66/66\u001b[0m \u001b[32m━━━━━━━━━━━━━━━━━━━━\u001b[0m\u001b[37m\u001b[0m \u001b[1m37s\u001b[0m 505ms/step - accuracy: 0.9707 - loss: 0.1055 - val_accuracy: 0.5143 - val_loss: 1.7282\n",
      "Epoch 4/20\n",
      "\u001b[1m66/66\u001b[0m \u001b[32m━━━━━━━━━━━━━━━━━━━━\u001b[0m\u001b[37m\u001b[0m \u001b[1m37s\u001b[0m 511ms/step - accuracy: 0.9862 - loss: 0.0602 - val_accuracy: 0.5507 - val_loss: 2.9090\n",
      "Epoch 5/20\n",
      "\u001b[1m66/66\u001b[0m \u001b[32m━━━━━━━━━━━━━━━━━━━━\u001b[0m\u001b[37m\u001b[0m \u001b[1m37s\u001b[0m 511ms/step - accuracy: 0.9571 - loss: 0.1323 - val_accuracy: 0.6463 - val_loss: 1.2128\n",
      "Epoch 6/20\n",
      "\u001b[1m66/66\u001b[0m \u001b[32m━━━━━━━━━━━━━━━━━━━━\u001b[0m\u001b[37m\u001b[0m \u001b[1m37s\u001b[0m 514ms/step - accuracy: 0.9787 - loss: 0.0874 - val_accuracy: 0.6692 - val_loss: 0.9345\n",
      "Epoch 7/20\n",
      "\u001b[1m66/66\u001b[0m \u001b[32m━━━━━━━━━━━━━━━━━━━━\u001b[0m\u001b[37m\u001b[0m \u001b[1m37s\u001b[0m 513ms/step - accuracy: 0.9730 - loss: 0.1101 - val_accuracy: 0.8834 - val_loss: 0.3332\n",
      "Epoch 8/20\n",
      "\u001b[1m66/66\u001b[0m \u001b[32m━━━━━━━━━━━━━━━━━━━━\u001b[0m\u001b[37m\u001b[0m \u001b[1m37s\u001b[0m 511ms/step - accuracy: 0.9767 - loss: 0.0739 - val_accuracy: 0.6272 - val_loss: 0.8878\n",
      "Epoch 9/20\n",
      "\u001b[1m66/66\u001b[0m \u001b[32m━━━━━━━━━━━━━━━━━━━━\u001b[0m\u001b[37m\u001b[0m \u001b[1m37s\u001b[0m 507ms/step - accuracy: 0.9869 - loss: 0.0659 - val_accuracy: 0.6463 - val_loss: 1.5886\n",
      "Epoch 10/20\n",
      "\u001b[1m66/66\u001b[0m \u001b[32m━━━━━━━━━━━━━━━━━━━━\u001b[0m\u001b[37m\u001b[0m \u001b[1m36s\u001b[0m 505ms/step - accuracy: 0.9875 - loss: 0.0430 - val_accuracy: 0.5736 - val_loss: 1.4787\n",
      "Epoch 11/20\n",
      "\u001b[1m66/66\u001b[0m \u001b[32m━━━━━━━━━━━━━━━━━━━━\u001b[0m\u001b[37m\u001b[0m \u001b[1m36s\u001b[0m 508ms/step - accuracy: 0.9542 - loss: 0.1809 - val_accuracy: 0.9541 - val_loss: 0.1263\n",
      "Epoch 12/20\n",
      "\u001b[1m66/66\u001b[0m \u001b[32m━━━━━━━━━━━━━━━━━━━━\u001b[0m\u001b[37m\u001b[0m \u001b[1m37s\u001b[0m 511ms/step - accuracy: 0.9834 - loss: 0.0598 - val_accuracy: 0.6520 - val_loss: 0.7169\n",
      "Epoch 13/20\n",
      "\u001b[1m66/66\u001b[0m \u001b[32m━━━━━━━━━━━━━━━━━━━━\u001b[0m\u001b[37m\u001b[0m \u001b[1m37s\u001b[0m 512ms/step - accuracy: 0.9836 - loss: 0.0532 - val_accuracy: 0.7266 - val_loss: 1.0963\n",
      "Epoch 14/20\n",
      "\u001b[1m66/66\u001b[0m \u001b[32m━━━━━━━━━━━━━━━━━━━━\u001b[0m\u001b[37m\u001b[0m \u001b[1m37s\u001b[0m 517ms/step - accuracy: 0.9916 - loss: 0.0397 - val_accuracy: 0.5774 - val_loss: 1.7887\n",
      "Epoch 15/20\n",
      "\u001b[1m66/66\u001b[0m \u001b[32m━━━━━━━━━━━━━━━━━━━━\u001b[0m\u001b[37m\u001b[0m \u001b[1m38s\u001b[0m 522ms/step - accuracy: 0.9829 - loss: 0.0630 - val_accuracy: 0.7342 - val_loss: 0.6790\n",
      "Epoch 16/20\n",
      "\u001b[1m66/66\u001b[0m \u001b[32m━━━━━━━━━━━━━━━━━━━━\u001b[0m\u001b[37m\u001b[0m \u001b[1m38s\u001b[0m 522ms/step - accuracy: 0.9869 - loss: 0.0517 - val_accuracy: 0.4990 - val_loss: 2.8791\n",
      "Epoch 17/20\n",
      "\u001b[1m66/66\u001b[0m \u001b[32m━━━━━━━━━━━━━━━━━━━━\u001b[0m\u001b[37m\u001b[0m \u001b[1m38s\u001b[0m 528ms/step - accuracy: 0.9792 - loss: 0.0886 - val_accuracy: 0.7189 - val_loss: 0.6559\n",
      "Epoch 18/20\n",
      "\u001b[1m66/66\u001b[0m \u001b[32m━━━━━━━━━━━━━━━━━━━━\u001b[0m\u001b[37m\u001b[0m \u001b[1m38s\u001b[0m 522ms/step - accuracy: 0.9890 - loss: 0.0457 - val_accuracy: 0.6310 - val_loss: 1.1938\n",
      "Epoch 19/20\n",
      "\u001b[1m66/66\u001b[0m \u001b[32m━━━━━━━━━━━━━━━━━━━━\u001b[0m\u001b[37m\u001b[0m \u001b[1m38s\u001b[0m 531ms/step - accuracy: 0.9884 - loss: 0.0512 - val_accuracy: 0.6176 - val_loss: 1.1291\n",
      "Epoch 20/20\n",
      "\u001b[1m66/66\u001b[0m \u001b[32m━━━━━━━━━━━━━━━━━━━━\u001b[0m\u001b[37m\u001b[0m \u001b[1m38s\u001b[0m 521ms/step - accuracy: 0.9913 - loss: 0.0317 - val_accuracy: 0.6845 - val_loss: 0.8638\n"
     ]
    },
    {
     "data": {
      "text/plain": [
       "<keras.src.callbacks.history.History at 0x7be1a0711ed0>"
      ]
     },
     "execution_count": 12,
     "metadata": {},
     "output_type": "execute_result"
    }
   ],
   "source": [
    "model.fit(train_generator,\n",
    "          epochs=20,\n",
    "          validation_data=val_generator)"
   ]
  },
  {
   "cell_type": "code",
   "execution_count": 13,
   "id": "a058344a",
   "metadata": {
    "execution": {
     "iopub.execute_input": "2025-03-21T21:05:06.216594Z",
     "iopub.status.busy": "2025-03-21T21:05:06.216280Z",
     "iopub.status.idle": "2025-03-21T21:05:07.283357Z",
     "shell.execute_reply": "2025-03-21T21:05:07.282464Z"
    },
    "papermill": {
     "duration": 1.138815,
     "end_time": "2025-03-21T21:05:07.285262",
     "exception": false,
     "start_time": "2025-03-21T21:05:06.146447",
     "status": "completed"
    },
    "tags": []
   },
   "outputs": [],
   "source": [
    "# Lưu mô hình hoàn chỉnh (bao gồm cả cấu trúc, trọng số và trạng thái huấn luyện)\n",
    "model.save('model.h5')"
   ]
  },
  {
   "cell_type": "code",
   "execution_count": 14,
   "id": "59f316f5",
   "metadata": {
    "execution": {
     "iopub.execute_input": "2025-03-21T21:05:07.428449Z",
     "iopub.status.busy": "2025-03-21T21:05:07.428156Z",
     "iopub.status.idle": "2025-03-21T21:05:07.952651Z",
     "shell.execute_reply": "2025-03-21T21:05:07.951949Z"
    },
    "papermill": {
     "duration": 0.593566,
     "end_time": "2025-03-21T21:05:07.954215",
     "exception": false,
     "start_time": "2025-03-21T21:05:07.360649",
     "status": "completed"
    },
    "tags": []
   },
   "outputs": [],
   "source": [
    "from tensorflow.keras.models import load_model\n",
    "model = load_model('model.h5')"
   ]
  }
 ],
 "metadata": {
  "kaggle": {
   "accelerator": "nvidiaTeslaT4",
   "dataSources": [
    {
     "datasetId": 6711261,
     "sourceId": 10999905,
     "sourceType": "datasetVersion"
    }
   ],
   "dockerImageVersionId": 30918,
   "isGpuEnabled": true,
   "isInternetEnabled": true,
   "language": "python",
   "sourceType": "notebook"
  },
  "kernelspec": {
   "display_name": "Python 3",
   "language": "python",
   "name": "python3"
  },
  "language_info": {
   "codemirror_mode": {
    "name": "ipython",
    "version": 3
   },
   "file_extension": ".py",
   "mimetype": "text/x-python",
   "name": "python",
   "nbconvert_exporter": "python",
   "pygments_lexer": "ipython3",
   "version": "3.10.12"
  },
  "papermill": {
   "default_parameters": {},
   "duration": 895.308462,
   "end_time": "2025-03-21T21:05:11.353116",
   "environment_variables": {},
   "exception": null,
   "input_path": "__notebook__.ipynb",
   "output_path": "__notebook__.ipynb",
   "parameters": {},
   "start_time": "2025-03-21T20:50:16.044654",
   "version": "2.6.0"
  }
 },
 "nbformat": 4,
 "nbformat_minor": 5
}
