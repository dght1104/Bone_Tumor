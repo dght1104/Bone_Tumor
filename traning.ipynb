{
 "cells": [
  {
   "cell_type": "markdown",
   "id": "f409839e",
   "metadata": {
    "papermill": {
     "duration": 0.004453,
     "end_time": "2025-03-21T20:48:48.514225",
     "exception": false,
     "start_time": "2025-03-21T20:48:48.509772",
     "status": "completed"
    },
    "tags": []
   },
   "source": [
    "# **Bước 0: Import thư viện**"
   ]
  },
  {
   "cell_type": "code",
   "execution_count": 1,
   "id": "31751731",
   "metadata": {
    "_cell_guid": "b1076dfc-b9ad-4769-8c92-a6c4dae69d19",
    "_uuid": "8f2839f25d086af736a60e9eeb907d3b93b6e0e5",
    "execution": {
     "iopub.execute_input": "2025-03-21T20:48:48.523252Z",
     "iopub.status.busy": "2025-03-21T20:48:48.522950Z",
     "iopub.status.idle": "2025-03-21T20:49:03.542420Z",
     "shell.execute_reply": "2025-03-21T20:49:03.541749Z"
    },
    "papermill": {
     "duration": 15.025638,
     "end_time": "2025-03-21T20:49:03.543821",
     "exception": false,
     "start_time": "2025-03-21T20:48:48.518183",
     "status": "completed"
    },
    "tags": []
   },
   "outputs": [],
   "source": [
    "import keras\n",
    "import os\n",
    "import glob\n",
    "import json\n",
    "import cv2\n",
    "import numpy as np\n",
    "import matplotlib.pyplot as plt\n",
    "from sklearn.model_selection import train_test_split\n",
    "import random\n",
    "import shutil\n",
    "from tensorflow.keras import models, layers,Input\n",
    "from tensorflow.keras.preprocessing.image import ImageDataGenerator"
   ]
  },
  {
   "cell_type": "markdown",
   "id": "9b273fa8",
   "metadata": {
    "papermill": {
     "duration": 0.003597,
     "end_time": "2025-03-21T20:49:03.551428",
     "exception": false,
     "start_time": "2025-03-21T20:49:03.547831",
     "status": "completed"
    },
    "tags": []
   },
   "source": [
    "# **Bước 1: Đọc ảnh và file JSON**"
   ]
  },
  {
   "cell_type": "code",
   "execution_count": 2,
   "id": "13a576b6",
   "metadata": {
    "execution": {
     "iopub.execute_input": "2025-03-21T20:49:03.559728Z",
     "iopub.status.busy": "2025-03-21T20:49:03.559200Z",
     "iopub.status.idle": "2025-03-21T20:49:03.565569Z",
     "shell.execute_reply": "2025-03-21T20:49:03.564849Z"
    },
    "papermill": {
     "duration": 0.011965,
     "end_time": "2025-03-21T20:49:03.566906",
     "exception": false,
     "start_time": "2025-03-21T20:49:03.554941",
     "status": "completed"
    },
    "tags": []
   },
   "outputs": [
    {
     "name": "stdout",
     "output_type": "stream",
     "text": [
      "✅ Đã tạo thư mục: /kaggle/working/processed_images\n",
      "✅ Đã tạo thư mục: /kaggle/working/processed_annotations\n"
     ]
    }
   ],
   "source": [
    "# Đường dẫn thư mục dữ liệu gốc\n",
    "IMAGE_DIR = \"/kaggle/input/btxrd-data/BTXRD/BTXRD/images\"\n",
    "JSON_DIR = \"/kaggle/input/btxrd-data/BTXRD/BTXRD/Annotations\"\n",
    "\n",
    "# Thư mục lưu kết quả sau khi xử lý\n",
    "OUTPUT_IMAGE_DIR = \"/kaggle/working/processed_images\"\n",
    "OUTPUT_JSON_DIR = \"/kaggle/working/processed_annotations\"\n",
    "\n",
    "if not os.path.exists(OUTPUT_IMAGE_DIR):\n",
    "    os.makedirs(OUTPUT_IMAGE_DIR, exist_ok=True)  # Tạo thư mục nếu chưa có\n",
    "    print(f\"✅ Đã tạo thư mục: {OUTPUT_IMAGE_DIR}\")\n",
    "else:\n",
    "    print(f\"✅ Thư mục đã tồn tại: {OUTPUT_IMAGE_DIR}\")\n",
    "\n",
    "if not os.path.exists(OUTPUT_JSON_DIR):\n",
    "    os.makedirs(OUTPUT_JSON_DIR, exist_ok=True)  # Tạo thư mục nếu chưa có\n",
    "    print(f\"✅ Đã tạo thư mục: {OUTPUT_JSON_DIR}\")\n",
    "else:\n",
    "    print(f\"✅ Thư mục đã tồn tại: {OUTPUT_JSON_DIR}\")"
   ]
  },
  {
   "cell_type": "markdown",
   "id": "27c0645e",
   "metadata": {
    "papermill": {
     "duration": 0.003453,
     "end_time": "2025-03-21T20:49:03.574054",
     "exception": false,
     "start_time": "2025-03-21T20:49:03.570601",
     "status": "completed"
    },
    "tags": []
   },
   "source": [
    "# ** Bước 2: Tiền xử lý dữ liệu**"
   ]
  },
  {
   "cell_type": "markdown",
   "id": "51d5b573",
   "metadata": {
    "papermill": {
     "duration": 0.00336,
     "end_time": "2025-03-21T20:49:03.580985",
     "exception": false,
     "start_time": "2025-03-21T20:49:03.577625",
     "status": "completed"
    },
    "tags": []
   },
   "source": [
    "Resize ảnh về kích thước cố định nhưng không méo hình.  \n",
    "Padding ảnh để giữ nguyên tỷ lệ.  \n",
    "Cập nhật tọa độ vùng ung thư trong JSON để không bị sai lệch.  "
   ]
  },
  {
   "cell_type": "code",
   "execution_count": 3,
   "id": "7742dd1f",
   "metadata": {
    "execution": {
     "iopub.execute_input": "2025-03-21T20:49:03.588897Z",
     "iopub.status.busy": "2025-03-21T20:49:03.588630Z",
     "iopub.status.idle": "2025-03-21T20:49:03.594608Z",
     "shell.execute_reply": "2025-03-21T20:49:03.593828Z"
    },
    "papermill": {
     "duration": 0.011509,
     "end_time": "2025-03-21T20:49:03.595991",
     "exception": false,
     "start_time": "2025-03-21T20:49:03.584482",
     "status": "completed"
    },
    "tags": []
   },
   "outputs": [],
   "source": [
    "def resize_and_pad_image(img_path, json_path):\n",
    "    \"\"\" Resize ảnh về kích thước chuẩn và cập nhật tọa độ vùng ung thư trong JSON. \"\"\"\n",
    "    # Đọc ảnh gốc\n",
    "    img = cv2.imread(img_path, cv2.IMREAD_GRAYSCALE)\n",
    "    h, w = img.shape\n",
    "\n",
    "    # Tính tỷ lệ resize để không làm méo ảnh\n",
    "    scale = min(TARGET_SIZE[0] / w, TARGET_SIZE[1] / h)\n",
    "    new_w, new_h = int(w * scale), int(h * scale)\n",
    "    \n",
    "    # Resize ảnh\n",
    "    resized_img = cv2.resize(img, (new_w, new_h))\n",
    "\n",
    "    # Tạo ảnh nền trắng để pad\n",
    "    final_img = np.ones((TARGET_SIZE[1], TARGET_SIZE[0]), dtype=np.float32) * 255\n",
    "    x_offset = (TARGET_SIZE[0] - new_w) // 2\n",
    "    y_offset = (TARGET_SIZE[1] - new_h) // 2\n",
    "\n",
    "    # Đưa ảnh vào trung tâm\n",
    "    final_img[y_offset:y_offset + new_h, x_offset:x_offset + new_w] = resized_img\n",
    "\n",
    "    # Cập nhật JSON\n",
    "    with open(json_path, \"r\") as f:\n",
    "        data = json.load(f)\n",
    "\n",
    "    # Cập nhật tọa độ vùng tổn thương\n",
    "    for shape in data[\"shapes\"]:\n",
    "        updated_points = []\n",
    "        for point in shape[\"points\"]:\n",
    "            x_new = point[0] * scale + x_offset\n",
    "            y_new = point[1] * scale + y_offset\n",
    "            updated_points.append([x_new, y_new])\n",
    "\n",
    "        shape[\"points\"] = updated_points\n",
    "\n",
    "    return final_img / 255.0, data"
   ]
  },
  {
   "cell_type": "code",
   "execution_count": 4,
   "id": "e83cbd53",
   "metadata": {
    "execution": {
     "iopub.execute_input": "2025-03-21T20:49:03.604141Z",
     "iopub.status.busy": "2025-03-21T20:49:03.603936Z",
     "iopub.status.idle": "2025-03-21T20:50:20.201818Z",
     "shell.execute_reply": "2025-03-21T20:50:20.200965Z"
    },
    "papermill": {
     "duration": 76.607183,
     "end_time": "2025-03-21T20:50:20.206897",
     "exception": false,
     "start_time": "2025-03-21T20:49:03.599714",
     "status": "completed"
    },
    "tags": []
   },
   "outputs": [
    {
     "name": "stdout",
     "output_type": "stream",
     "text": [
      "✅ Xử lý hoàn tất. Ảnh và JSON đã được lưu tại /kaggle/working/processed_images và /kaggle/working/processed_annotations\n"
     ]
    }
   ],
   "source": [
    "TARGET_SIZE = (224, 294)  # (width, height)\n",
    "\n",
    "# Duyệt qua tất cả ảnh trong thư mục\n",
    "image_paths = glob.glob(IMAGE_DIR + \"/*.png\") + glob.glob(IMAGE_DIR + \"/*.jpg\") + glob.glob(IMAGE_DIR + \"/*.jpeg\")\n",
    "\n",
    "for img_path in image_paths:\n",
    "    filename = os.path.basename(img_path).split('.')[0]  # Lấy tên file không có đuôi\n",
    "    json_path = os.path.join(JSON_DIR, filename + \".json\")  # Tìm file JSON tương ứng\n",
    "    \n",
    "    if os.path.exists(json_path):\n",
    "        # Xử lý ảnh + tọa độ ung thư\n",
    "        processed_img, updated_annotations = resize_and_pad_image(img_path, json_path)\n",
    "\n",
    "        if processed_img is not None:\n",
    "            # Lưu ảnh mới\n",
    "            output_img_path = os.path.join(OUTPUT_IMAGE_DIR, filename + \".jpg\")\n",
    "            cv2.imwrite(output_img_path, (processed_img * 255).astype(np.uint8))  # Chuyển về 0-255\n",
    "\n",
    "            # Lưu JSON mới\n",
    "            output_json_path = os.path.join(OUTPUT_JSON_DIR, filename + \".json\")\n",
    "            with open(output_json_path, \"w\") as f:\n",
    "                json.dump(updated_annotations, f, indent=4)\n",
    "    else:\n",
    "        # Xử lý ảnh không có JSON\n",
    "        img = cv2.imread(img_path, cv2.IMREAD_GRAYSCALE)\n",
    "        processed_img = cv2.resize(img, TARGET_SIZE)  # Resize ảnh về đúng kích thước\n",
    "\n",
    "        # Lưu ảnh đã resize vào thư mục OUTPUT_IMAGE_DIR\n",
    "        output_img_path = os.path.join(OUTPUT_IMAGE_DIR, filename + \".jpg\")\n",
    "        cv2.imwrite(output_img_path, processed_img)\n",
    "\n",
    "print(\"✅ Xử lý hoàn tất. Ảnh và JSON đã được lưu tại\", OUTPUT_IMAGE_DIR, \"và\", OUTPUT_JSON_DIR)\n"
   ]
  },
  {
   "cell_type": "markdown",
   "id": "ec636d0c",
   "metadata": {
    "papermill": {
     "duration": 0.00356,
     "end_time": "2025-03-21T20:50:20.214313",
     "exception": false,
     "start_time": "2025-03-21T20:50:20.210753",
     "status": "completed"
    },
    "tags": []
   },
   "source": [
    "# **Bước 3: Phân chia bộ test và train**"
   ]
  },
  {
   "cell_type": "markdown",
   "id": "fddb8e46",
   "metadata": {
    "papermill": {
     "duration": 0.003408,
     "end_time": "2025-03-21T20:50:20.221404",
     "exception": false,
     "start_time": "2025-03-21T20:50:20.217996",
     "status": "completed"
    },
    "tags": []
   },
   "source": [
    "Phân chia ảnh thành 80% train và 20% test"
   ]
  },
  {
   "cell_type": "code",
   "execution_count": 5,
   "id": "411974c5",
   "metadata": {
    "execution": {
     "iopub.execute_input": "2025-03-21T20:50:20.229772Z",
     "iopub.status.busy": "2025-03-21T20:50:20.229473Z",
     "iopub.status.idle": "2025-03-21T20:50:20.632547Z",
     "shell.execute_reply": "2025-03-21T20:50:20.631705Z"
    },
    "papermill": {
     "duration": 0.408852,
     "end_time": "2025-03-21T20:50:20.633945",
     "exception": false,
     "start_time": "2025-03-21T20:50:20.225093",
     "status": "completed"
    },
    "tags": []
   },
   "outputs": [
    {
     "name": "stdout",
     "output_type": "stream",
     "text": [
      "✅ Chia tập dữ liệu hoàn tất!\n"
     ]
    }
   ],
   "source": [
    "OUTPUT_DIR = \"/kaggle/working/\"\n",
    "# Tạo thư mục train, test, val\n",
    "for folder in [\"train\", \"test\", \"val\"]:\n",
    "    os.makedirs(os.path.join(OUTPUT_DIR, folder), exist_ok=True)\n",
    "\n",
    "# Lấy danh sách ảnh\n",
    "image_paths = glob.glob(os.path.join(OUTPUT_IMAGE_DIR, \"*.jpg\")) + \\\n",
    "              glob.glob(os.path.join(OUTPUT_IMAGE_DIR, \"*.jpeg\"))\n",
    "\n",
    "# Shuffle dữ liệu để chia ngẫu nhiên\n",
    "random.seed(42)\n",
    "random.shuffle(image_paths)\n",
    "\n",
    "# Chia theo tỷ lệ 70% train - 20% test - 10% validation\n",
    "train_idx = int(0.7 * len(image_paths))\n",
    "test_idx = int(0.9 * len(image_paths))  # Sau train, còn 30%, chia tiếp thành 20% test + 10% val\n",
    "\n",
    "train_images = image_paths[:train_idx]\n",
    "test_images = image_paths[train_idx:test_idx]\n",
    "val_images = image_paths[test_idx:]\n",
    "\n",
    "# Di chuyển ảnh vào thư mục tương ứng\n",
    "for img_path in train_images:\n",
    "    shutil.copy(img_path, os.path.join(OUTPUT_DIR, \"train\", os.path.basename(img_path)))\n",
    "\n",
    "for img_path in test_images:\n",
    "    shutil.copy(img_path, os.path.join(OUTPUT_DIR, \"test\", os.path.basename(img_path)))\n",
    "\n",
    "for img_path in val_images:\n",
    "    shutil.copy(img_path, os.path.join(OUTPUT_DIR, \"val\", os.path.basename(img_path)))\n",
    "\n",
    "print(\"✅ Chia tập dữ liệu hoàn tất!\")"
   ]
  },
  {
   "cell_type": "code",
   "execution_count": 6,
   "id": "72b79531",
   "metadata": {
    "execution": {
     "iopub.execute_input": "2025-03-21T20:50:20.642776Z",
     "iopub.status.busy": "2025-03-21T20:50:20.642517Z",
     "iopub.status.idle": "2025-03-21T20:50:20.649599Z",
     "shell.execute_reply": "2025-03-21T20:50:20.648856Z"
    },
    "papermill": {
     "duration": 0.013153,
     "end_time": "2025-03-21T20:50:20.651244",
     "exception": false,
     "start_time": "2025-03-21T20:50:20.638091",
     "status": "completed"
    },
    "tags": []
   },
   "outputs": [
    {
     "name": "stdout",
     "output_type": "stream",
     "text": [
      "📂 Số lượng file trong /kaggle/working/test: 749\n",
      "📂 Số lượng file trong /kaggle/working/train: 2622\n",
      "📂 Số lượng file trong /kaggle/working/val: 375\n"
     ]
    }
   ],
   "source": [
    "import os\n",
    "\n",
    "test_path = \"/kaggle/working/test\" \n",
    "test_files = len(os.listdir(test_path))\n",
    "print(f\"📂 Số lượng file trong {test_path}: {test_files}\")\n",
    "\n",
    "benign_path = \"/kaggle/working/train\" \n",
    "benign_files = len(os.listdir(benign_path)) \n",
    "print(f\"📂 Số lượng file trong {benign_path}: {benign_files}\")\n",
    "\n",
    "malignant_path = \"/kaggle/working/val\"\n",
    "malignant_files = len(os.listdir(malignant_path)) \n",
    "print(f\"📂 Số lượng file trong {malignant_path}: {malignant_files}\")"
   ]
  },
  {
   "cell_type": "code",
   "execution_count": 7,
   "id": "761e46e0",
   "metadata": {
    "execution": {
     "iopub.execute_input": "2025-03-21T20:50:20.659610Z",
     "iopub.status.busy": "2025-03-21T20:50:20.659411Z",
     "iopub.status.idle": "2025-03-21T20:50:20.763051Z",
     "shell.execute_reply": "2025-03-21T20:50:20.762241Z"
    },
    "papermill": {
     "duration": 0.109124,
     "end_time": "2025-03-21T20:50:20.764296",
     "exception": false,
     "start_time": "2025-03-21T20:50:20.655172",
     "status": "completed"
    },
    "tags": []
   },
   "outputs": [
    {
     "name": "stdout",
     "output_type": "stream",
     "text": [
      "✅ Phân loại ảnh trong train hoàn tất!\n"
     ]
    }
   ],
   "source": [
    "# Thư mục train gốc\n",
    "TRAIN_DIR = \"/kaggle/working/train\"\n",
    "OUTPUT_JSON_DIR = \"/kaggle/working/processed_annotations\"\n",
    "\n",
    "# Tạo thư mục benign/malignant trong train\n",
    "for folder in [\"benign\", \"malignant\"]:\n",
    "    os.makedirs(os.path.join(TRAIN_DIR, folder), exist_ok=True)\n",
    "\n",
    "# Lấy danh sách ảnh trong train\n",
    "train_images = glob.glob(os.path.join(TRAIN_DIR, \"*.jpg\")) + \\\n",
    "               glob.glob(os.path.join(TRAIN_DIR, \"*.jpeg\"))\n",
    "\n",
    "# Phân loại ảnh\n",
    "for img_path in train_images:\n",
    "    filename = os.path.basename(img_path)\n",
    "    json_path = os.path.join(OUTPUT_JSON_DIR, filename.replace(\".jpg\", \".json\"))\n",
    "\n",
    "    if os.path.exists(json_path):\n",
    "        dest_folder = \"malignant\"  # Có JSON -> malignant\n",
    "    else:\n",
    "        dest_folder = \"benign\"  # Không có JSON -> benign\n",
    "\n",
    "    shutil.move(img_path, os.path.join(TRAIN_DIR, dest_folder, filename))\n",
    "\n",
    "print(\"✅ Phân loại ảnh trong train hoàn tất!\")"
   ]
  },
  {
   "cell_type": "code",
   "execution_count": 8,
   "id": "a45a1fc7",
   "metadata": {
    "execution": {
     "iopub.execute_input": "2025-03-21T20:50:20.773058Z",
     "iopub.status.busy": "2025-03-21T20:50:20.772847Z",
     "iopub.status.idle": "2025-03-21T20:50:20.807860Z",
     "shell.execute_reply": "2025-03-21T20:50:20.807063Z"
    },
    "papermill": {
     "duration": 0.040718,
     "end_time": "2025-03-21T20:50:20.809124",
     "exception": false,
     "start_time": "2025-03-21T20:50:20.768406",
     "status": "completed"
    },
    "tags": []
   },
   "outputs": [
    {
     "name": "stdout",
     "output_type": "stream",
     "text": [
      "✅ Phân loại ảnh trong train hoàn tất!\n"
     ]
    }
   ],
   "source": [
    "# Thư mục train gốc\n",
    "TEST_DIR = \"/kaggle/working/test\"\n",
    "OUTPUT_JSON_DIR = \"/kaggle/working/processed_annotations\"\n",
    "\n",
    "# Tạo thư mục benign/malignant trong train\n",
    "for folder in [\"benign\", \"malignant\"]:\n",
    "    os.makedirs(os.path.join(TEST_DIR, folder), exist_ok=True)\n",
    "\n",
    "# Lấy danh sách ảnh trong train\n",
    "train_images = glob.glob(os.path.join(TEST_DIR, \"*.jpg\")) + \\\n",
    "               glob.glob(os.path.join(TEST_DIR, \"*.jpeg\"))\n",
    "\n",
    "# Phân loại ảnh\n",
    "for img_path in train_images:\n",
    "    filename = os.path.basename(img_path)\n",
    "    json_path = os.path.join(OUTPUT_JSON_DIR, filename.replace(\".jpg\", \".json\"))\n",
    "\n",
    "    if os.path.exists(json_path):\n",
    "        dest_folder = \"malignant\"  # Có JSON -> malignant\n",
    "    else:\n",
    "        dest_folder = \"benign\"  # Không có JSON -> benign\n",
    "\n",
    "    shutil.move(img_path, os.path.join(TEST_DIR, dest_folder, filename))\n",
    "\n",
    "print(\"✅ Phân loại ảnh trong train hoàn tất!\")"
   ]
  },
  {
   "cell_type": "code",
   "execution_count": 9,
   "id": "b87f62a9",
   "metadata": {
    "execution": {
     "iopub.execute_input": "2025-03-21T20:50:20.817871Z",
     "iopub.status.busy": "2025-03-21T20:50:20.817624Z",
     "iopub.status.idle": "2025-03-21T20:50:20.829389Z",
     "shell.execute_reply": "2025-03-21T20:50:20.828671Z"
    },
    "papermill": {
     "duration": 0.017483,
     "end_time": "2025-03-21T20:50:20.830628",
     "exception": false,
     "start_time": "2025-03-21T20:50:20.813145",
     "status": "completed"
    },
    "tags": []
   },
   "outputs": [
    {
     "name": "stdout",
     "output_type": "stream",
     "text": [
      "📂 Số lượng ảnh trong train/benign: 1316\n",
      "📂 Số lượng ảnh trong train/malignant: 1306\n",
      "📂 Số lượng ảnh trong TEST/benign: 372\n",
      "📂 Số lượng ảnh trong TEST/malignant: 377\n"
     ]
    }
   ],
   "source": [
    "for folder in [\"benign\", \"malignant\"]:\n",
    "    count = len(glob.glob(os.path.join(TRAIN_DIR, folder, \"*.jpg\")))\n",
    "    print(f\"📂 Số lượng ảnh trong train/{folder}: {count}\")\n",
    "\n",
    "for folder in [\"benign\", \"malignant\"]:\n",
    "    count = len(glob.glob(os.path.join(TEST_DIR, folder, \"*.jpg\")))\n",
    "    print(f\"📂 Số lượng ảnh trong TEST/{folder}: {count}\")"
   ]
  },
  {
   "cell_type": "markdown",
   "id": "b63c234f",
   "metadata": {
    "papermill": {
     "duration": 0.003748,
     "end_time": "2025-03-21T20:50:20.838459",
     "exception": false,
     "start_time": "2025-03-21T20:50:20.834711",
     "status": "completed"
    },
    "tags": []
   },
   "source": [
    "# **Bước 4: Xây dựng hệ thống CNN**"
   ]
  },
  {
   "cell_type": "code",
   "execution_count": 10,
   "id": "0ca47f80",
   "metadata": {
    "execution": {
     "iopub.execute_input": "2025-03-21T20:50:20.846956Z",
     "iopub.status.busy": "2025-03-21T20:50:20.846723Z",
     "iopub.status.idle": "2025-03-21T20:50:20.914620Z",
     "shell.execute_reply": "2025-03-21T20:50:20.913785Z"
    },
    "papermill": {
     "duration": 0.073592,
     "end_time": "2025-03-21T20:50:20.915967",
     "exception": false,
     "start_time": "2025-03-21T20:50:20.842375",
     "status": "completed"
    },
    "tags": []
   },
   "outputs": [
    {
     "name": "stdout",
     "output_type": "stream",
     "text": [
      "Found 2098 images belonging to 2 classes.\n",
      "Found 524 images belonging to 2 classes.\n",
      "Found 749 images belonging to 2 classes.\n",
      "✅ Load dữ liệu hoàn tất!\n"
     ]
    }
   ],
   "source": [
    "# Định nghĩa ImageDataGenerator cho train + validation\n",
    "train_datagen = ImageDataGenerator(\n",
    "    rescale=1./255,\n",
    "    rotation_range=20,\n",
    "    width_shift_range=0.2,\n",
    "    height_shift_range=0.2,\n",
    "    horizontal_flip=True,\n",
    "    validation_split=0.2  # 🔥 Chia 20% từ train làm validation\n",
    ")\n",
    "\n",
    "test_datagen = ImageDataGenerator(rescale=1./255)  # Chỉ cần chuẩn hóa cho test\n",
    "\n",
    "# Load ảnh từ thư mục train (chia train/val tự động)\n",
    "train_generator = train_datagen.flow_from_directory(\n",
    "    \"/kaggle/working/train\",  \n",
    "    target_size=(224, 294),\n",
    "    batch_size=32,\n",
    "    class_mode=\"categorical\",\n",
    "    subset=\"training\"  # 🔥 Chỉ lấy phần training (80%)\n",
    ")\n",
    "\n",
    "val_generator = train_datagen.flow_from_directory(\n",
    "    \"/kaggle/working/train\",\n",
    "    target_size=(224, 294),\n",
    "    batch_size=32,\n",
    "    class_mode=\"categorical\",\n",
    "    subset=\"validation\"  # 🔥 Chỉ lấy phần validation (20%)\n",
    ")\n",
    "\n",
    "# Load ảnh từ thư mục test\n",
    "test_generator = test_datagen.flow_from_directory(\n",
    "    \"/kaggle/working/test\",\n",
    "    target_size=(224, 294),\n",
    "    batch_size=32,\n",
    "    class_mode=\"categorical\",\n",
    "    shuffle=False  # Không shuffle để đảm bảo đánh giá đúng\n",
    ")\n",
    "\n",
    "print(\"✅ Load dữ liệu hoàn tất!\")"
   ]
  },
  {
   "cell_type": "code",
   "execution_count": 11,
   "id": "e10c82d8",
   "metadata": {
    "execution": {
     "iopub.execute_input": "2025-03-21T20:50:20.925419Z",
     "iopub.status.busy": "2025-03-21T20:50:20.925202Z",
     "iopub.status.idle": "2025-03-21T20:50:23.553526Z",
     "shell.execute_reply": "2025-03-21T20:50:23.552676Z"
    },
    "papermill": {
     "duration": 2.634392,
     "end_time": "2025-03-21T20:50:23.554865",
     "exception": false,
     "start_time": "2025-03-21T20:50:20.920473",
     "status": "completed"
    },
    "tags": []
   },
   "outputs": [
    {
     "data": {
      "text/html": [
       "<pre style=\"white-space:pre;overflow-x:auto;line-height:normal;font-family:Menlo,'DejaVu Sans Mono',consolas,'Courier New',monospace\"><span style=\"font-weight: bold\">Model: \"sequential\"</span>\n",
       "</pre>\n"
      ],
      "text/plain": [
       "\u001b[1mModel: \"sequential\"\u001b[0m\n"
      ]
     },
     "metadata": {},
     "output_type": "display_data"
    },
    {
     "data": {
      "text/html": [
       "<pre style=\"white-space:pre;overflow-x:auto;line-height:normal;font-family:Menlo,'DejaVu Sans Mono',consolas,'Courier New',monospace\">┏━━━━━━━━━━━━━━━━━━━━━━━━━━━━━━━━━━━━━━┳━━━━━━━━━━━━━━━━━━━━━━━━━━━━━┳━━━━━━━━━━━━━━━━━┓\n",
       "┃<span style=\"font-weight: bold\"> Layer (type)                         </span>┃<span style=\"font-weight: bold\"> Output Shape                </span>┃<span style=\"font-weight: bold\">         Param # </span>┃\n",
       "┡━━━━━━━━━━━━━━━━━━━━━━━━━━━━━━━━━━━━━━╇━━━━━━━━━━━━━━━━━━━━━━━━━━━━━╇━━━━━━━━━━━━━━━━━┩\n",
       "│ conv2d (<span style=\"color: #0087ff; text-decoration-color: #0087ff\">Conv2D</span>)                      │ (<span style=\"color: #00d7ff; text-decoration-color: #00d7ff\">None</span>, <span style=\"color: #00af00; text-decoration-color: #00af00\">224</span>, <span style=\"color: #00af00; text-decoration-color: #00af00\">294</span>, <span style=\"color: #00af00; text-decoration-color: #00af00\">32</span>)        │             <span style=\"color: #00af00; text-decoration-color: #00af00\">896</span> │\n",
       "├──────────────────────────────────────┼─────────────────────────────┼─────────────────┤\n",
       "│ conv2d_1 (<span style=\"color: #0087ff; text-decoration-color: #0087ff\">Conv2D</span>)                    │ (<span style=\"color: #00d7ff; text-decoration-color: #00d7ff\">None</span>, <span style=\"color: #00af00; text-decoration-color: #00af00\">224</span>, <span style=\"color: #00af00; text-decoration-color: #00af00\">294</span>, <span style=\"color: #00af00; text-decoration-color: #00af00\">32</span>)        │           <span style=\"color: #00af00; text-decoration-color: #00af00\">9,248</span> │\n",
       "├──────────────────────────────────────┼─────────────────────────────┼─────────────────┤\n",
       "│ max_pooling2d (<span style=\"color: #0087ff; text-decoration-color: #0087ff\">MaxPooling2D</span>)         │ (<span style=\"color: #00d7ff; text-decoration-color: #00d7ff\">None</span>, <span style=\"color: #00af00; text-decoration-color: #00af00\">112</span>, <span style=\"color: #00af00; text-decoration-color: #00af00\">147</span>, <span style=\"color: #00af00; text-decoration-color: #00af00\">32</span>)        │               <span style=\"color: #00af00; text-decoration-color: #00af00\">0</span> │\n",
       "├──────────────────────────────────────┼─────────────────────────────┼─────────────────┤\n",
       "│ dropout (<span style=\"color: #0087ff; text-decoration-color: #0087ff\">Dropout</span>)                    │ (<span style=\"color: #00d7ff; text-decoration-color: #00d7ff\">None</span>, <span style=\"color: #00af00; text-decoration-color: #00af00\">112</span>, <span style=\"color: #00af00; text-decoration-color: #00af00\">147</span>, <span style=\"color: #00af00; text-decoration-color: #00af00\">32</span>)        │               <span style=\"color: #00af00; text-decoration-color: #00af00\">0</span> │\n",
       "├──────────────────────────────────────┼─────────────────────────────┼─────────────────┤\n",
       "│ conv2d_2 (<span style=\"color: #0087ff; text-decoration-color: #0087ff\">Conv2D</span>)                    │ (<span style=\"color: #00d7ff; text-decoration-color: #00d7ff\">None</span>, <span style=\"color: #00af00; text-decoration-color: #00af00\">112</span>, <span style=\"color: #00af00; text-decoration-color: #00af00\">147</span>, <span style=\"color: #00af00; text-decoration-color: #00af00\">64</span>)        │          <span style=\"color: #00af00; text-decoration-color: #00af00\">18,496</span> │\n",
       "├──────────────────────────────────────┼─────────────────────────────┼─────────────────┤\n",
       "│ conv2d_3 (<span style=\"color: #0087ff; text-decoration-color: #0087ff\">Conv2D</span>)                    │ (<span style=\"color: #00d7ff; text-decoration-color: #00d7ff\">None</span>, <span style=\"color: #00af00; text-decoration-color: #00af00\">112</span>, <span style=\"color: #00af00; text-decoration-color: #00af00\">147</span>, <span style=\"color: #00af00; text-decoration-color: #00af00\">64</span>)        │          <span style=\"color: #00af00; text-decoration-color: #00af00\">36,928</span> │\n",
       "├──────────────────────────────────────┼─────────────────────────────┼─────────────────┤\n",
       "│ max_pooling2d_1 (<span style=\"color: #0087ff; text-decoration-color: #0087ff\">MaxPooling2D</span>)       │ (<span style=\"color: #00d7ff; text-decoration-color: #00d7ff\">None</span>, <span style=\"color: #00af00; text-decoration-color: #00af00\">56</span>, <span style=\"color: #00af00; text-decoration-color: #00af00\">73</span>, <span style=\"color: #00af00; text-decoration-color: #00af00\">64</span>)          │               <span style=\"color: #00af00; text-decoration-color: #00af00\">0</span> │\n",
       "├──────────────────────────────────────┼─────────────────────────────┼─────────────────┤\n",
       "│ dropout_1 (<span style=\"color: #0087ff; text-decoration-color: #0087ff\">Dropout</span>)                  │ (<span style=\"color: #00d7ff; text-decoration-color: #00d7ff\">None</span>, <span style=\"color: #00af00; text-decoration-color: #00af00\">56</span>, <span style=\"color: #00af00; text-decoration-color: #00af00\">73</span>, <span style=\"color: #00af00; text-decoration-color: #00af00\">64</span>)          │               <span style=\"color: #00af00; text-decoration-color: #00af00\">0</span> │\n",
       "├──────────────────────────────────────┼─────────────────────────────┼─────────────────┤\n",
       "│ conv2d_4 (<span style=\"color: #0087ff; text-decoration-color: #0087ff\">Conv2D</span>)                    │ (<span style=\"color: #00d7ff; text-decoration-color: #00d7ff\">None</span>, <span style=\"color: #00af00; text-decoration-color: #00af00\">56</span>, <span style=\"color: #00af00; text-decoration-color: #00af00\">73</span>, <span style=\"color: #00af00; text-decoration-color: #00af00\">128</span>)         │          <span style=\"color: #00af00; text-decoration-color: #00af00\">73,856</span> │\n",
       "├──────────────────────────────────────┼─────────────────────────────┼─────────────────┤\n",
       "│ conv2d_5 (<span style=\"color: #0087ff; text-decoration-color: #0087ff\">Conv2D</span>)                    │ (<span style=\"color: #00d7ff; text-decoration-color: #00d7ff\">None</span>, <span style=\"color: #00af00; text-decoration-color: #00af00\">56</span>, <span style=\"color: #00af00; text-decoration-color: #00af00\">73</span>, <span style=\"color: #00af00; text-decoration-color: #00af00\">128</span>)         │         <span style=\"color: #00af00; text-decoration-color: #00af00\">147,584</span> │\n",
       "├──────────────────────────────────────┼─────────────────────────────┼─────────────────┤\n",
       "│ max_pooling2d_2 (<span style=\"color: #0087ff; text-decoration-color: #0087ff\">MaxPooling2D</span>)       │ (<span style=\"color: #00d7ff; text-decoration-color: #00d7ff\">None</span>, <span style=\"color: #00af00; text-decoration-color: #00af00\">28</span>, <span style=\"color: #00af00; text-decoration-color: #00af00\">36</span>, <span style=\"color: #00af00; text-decoration-color: #00af00\">128</span>)         │               <span style=\"color: #00af00; text-decoration-color: #00af00\">0</span> │\n",
       "├──────────────────────────────────────┼─────────────────────────────┼─────────────────┤\n",
       "│ dropout_2 (<span style=\"color: #0087ff; text-decoration-color: #0087ff\">Dropout</span>)                  │ (<span style=\"color: #00d7ff; text-decoration-color: #00d7ff\">None</span>, <span style=\"color: #00af00; text-decoration-color: #00af00\">28</span>, <span style=\"color: #00af00; text-decoration-color: #00af00\">36</span>, <span style=\"color: #00af00; text-decoration-color: #00af00\">128</span>)         │               <span style=\"color: #00af00; text-decoration-color: #00af00\">0</span> │\n",
       "├──────────────────────────────────────┼─────────────────────────────┼─────────────────┤\n",
       "│ conv2d_6 (<span style=\"color: #0087ff; text-decoration-color: #0087ff\">Conv2D</span>)                    │ (<span style=\"color: #00d7ff; text-decoration-color: #00d7ff\">None</span>, <span style=\"color: #00af00; text-decoration-color: #00af00\">28</span>, <span style=\"color: #00af00; text-decoration-color: #00af00\">36</span>, <span style=\"color: #00af00; text-decoration-color: #00af00\">256</span>)         │         <span style=\"color: #00af00; text-decoration-color: #00af00\">295,168</span> │\n",
       "├──────────────────────────────────────┼─────────────────────────────┼─────────────────┤\n",
       "│ conv2d_7 (<span style=\"color: #0087ff; text-decoration-color: #0087ff\">Conv2D</span>)                    │ (<span style=\"color: #00d7ff; text-decoration-color: #00d7ff\">None</span>, <span style=\"color: #00af00; text-decoration-color: #00af00\">28</span>, <span style=\"color: #00af00; text-decoration-color: #00af00\">36</span>, <span style=\"color: #00af00; text-decoration-color: #00af00\">256</span>)         │         <span style=\"color: #00af00; text-decoration-color: #00af00\">590,080</span> │\n",
       "├──────────────────────────────────────┼─────────────────────────────┼─────────────────┤\n",
       "│ max_pooling2d_3 (<span style=\"color: #0087ff; text-decoration-color: #0087ff\">MaxPooling2D</span>)       │ (<span style=\"color: #00d7ff; text-decoration-color: #00d7ff\">None</span>, <span style=\"color: #00af00; text-decoration-color: #00af00\">14</span>, <span style=\"color: #00af00; text-decoration-color: #00af00\">18</span>, <span style=\"color: #00af00; text-decoration-color: #00af00\">256</span>)         │               <span style=\"color: #00af00; text-decoration-color: #00af00\">0</span> │\n",
       "├──────────────────────────────────────┼─────────────────────────────┼─────────────────┤\n",
       "│ dropout_3 (<span style=\"color: #0087ff; text-decoration-color: #0087ff\">Dropout</span>)                  │ (<span style=\"color: #00d7ff; text-decoration-color: #00d7ff\">None</span>, <span style=\"color: #00af00; text-decoration-color: #00af00\">14</span>, <span style=\"color: #00af00; text-decoration-color: #00af00\">18</span>, <span style=\"color: #00af00; text-decoration-color: #00af00\">256</span>)         │               <span style=\"color: #00af00; text-decoration-color: #00af00\">0</span> │\n",
       "├──────────────────────────────────────┼─────────────────────────────┼─────────────────┤\n",
       "│ flatten (<span style=\"color: #0087ff; text-decoration-color: #0087ff\">Flatten</span>)                    │ (<span style=\"color: #00d7ff; text-decoration-color: #00d7ff\">None</span>, <span style=\"color: #00af00; text-decoration-color: #00af00\">64512</span>)               │               <span style=\"color: #00af00; text-decoration-color: #00af00\">0</span> │\n",
       "├──────────────────────────────────────┼─────────────────────────────┼─────────────────┤\n",
       "│ dense (<span style=\"color: #0087ff; text-decoration-color: #0087ff\">Dense</span>)                        │ (<span style=\"color: #00d7ff; text-decoration-color: #00d7ff\">None</span>, <span style=\"color: #00af00; text-decoration-color: #00af00\">512</span>)                 │      <span style=\"color: #00af00; text-decoration-color: #00af00\">33,030,656</span> │\n",
       "├──────────────────────────────────────┼─────────────────────────────┼─────────────────┤\n",
       "│ dropout_4 (<span style=\"color: #0087ff; text-decoration-color: #0087ff\">Dropout</span>)                  │ (<span style=\"color: #00d7ff; text-decoration-color: #00d7ff\">None</span>, <span style=\"color: #00af00; text-decoration-color: #00af00\">512</span>)                 │               <span style=\"color: #00af00; text-decoration-color: #00af00\">0</span> │\n",
       "├──────────────────────────────────────┼─────────────────────────────┼─────────────────┤\n",
       "│ dense_1 (<span style=\"color: #0087ff; text-decoration-color: #0087ff\">Dense</span>)                      │ (<span style=\"color: #00d7ff; text-decoration-color: #00d7ff\">None</span>, <span style=\"color: #00af00; text-decoration-color: #00af00\">2</span>)                   │           <span style=\"color: #00af00; text-decoration-color: #00af00\">1,026</span> │\n",
       "└──────────────────────────────────────┴─────────────────────────────┴─────────────────┘\n",
       "</pre>\n"
      ],
      "text/plain": [
       "┏━━━━━━━━━━━━━━━━━━━━━━━━━━━━━━━━━━━━━━┳━━━━━━━━━━━━━━━━━━━━━━━━━━━━━┳━━━━━━━━━━━━━━━━━┓\n",
       "┃\u001b[1m \u001b[0m\u001b[1mLayer (type)                        \u001b[0m\u001b[1m \u001b[0m┃\u001b[1m \u001b[0m\u001b[1mOutput Shape               \u001b[0m\u001b[1m \u001b[0m┃\u001b[1m \u001b[0m\u001b[1m        Param #\u001b[0m\u001b[1m \u001b[0m┃\n",
       "┡━━━━━━━━━━━━━━━━━━━━━━━━━━━━━━━━━━━━━━╇━━━━━━━━━━━━━━━━━━━━━━━━━━━━━╇━━━━━━━━━━━━━━━━━┩\n",
       "│ conv2d (\u001b[38;5;33mConv2D\u001b[0m)                      │ (\u001b[38;5;45mNone\u001b[0m, \u001b[38;5;34m224\u001b[0m, \u001b[38;5;34m294\u001b[0m, \u001b[38;5;34m32\u001b[0m)        │             \u001b[38;5;34m896\u001b[0m │\n",
       "├──────────────────────────────────────┼─────────────────────────────┼─────────────────┤\n",
       "│ conv2d_1 (\u001b[38;5;33mConv2D\u001b[0m)                    │ (\u001b[38;5;45mNone\u001b[0m, \u001b[38;5;34m224\u001b[0m, \u001b[38;5;34m294\u001b[0m, \u001b[38;5;34m32\u001b[0m)        │           \u001b[38;5;34m9,248\u001b[0m │\n",
       "├──────────────────────────────────────┼─────────────────────────────┼─────────────────┤\n",
       "│ max_pooling2d (\u001b[38;5;33mMaxPooling2D\u001b[0m)         │ (\u001b[38;5;45mNone\u001b[0m, \u001b[38;5;34m112\u001b[0m, \u001b[38;5;34m147\u001b[0m, \u001b[38;5;34m32\u001b[0m)        │               \u001b[38;5;34m0\u001b[0m │\n",
       "├──────────────────────────────────────┼─────────────────────────────┼─────────────────┤\n",
       "│ dropout (\u001b[38;5;33mDropout\u001b[0m)                    │ (\u001b[38;5;45mNone\u001b[0m, \u001b[38;5;34m112\u001b[0m, \u001b[38;5;34m147\u001b[0m, \u001b[38;5;34m32\u001b[0m)        │               \u001b[38;5;34m0\u001b[0m │\n",
       "├──────────────────────────────────────┼─────────────────────────────┼─────────────────┤\n",
       "│ conv2d_2 (\u001b[38;5;33mConv2D\u001b[0m)                    │ (\u001b[38;5;45mNone\u001b[0m, \u001b[38;5;34m112\u001b[0m, \u001b[38;5;34m147\u001b[0m, \u001b[38;5;34m64\u001b[0m)        │          \u001b[38;5;34m18,496\u001b[0m │\n",
       "├──────────────────────────────────────┼─────────────────────────────┼─────────────────┤\n",
       "│ conv2d_3 (\u001b[38;5;33mConv2D\u001b[0m)                    │ (\u001b[38;5;45mNone\u001b[0m, \u001b[38;5;34m112\u001b[0m, \u001b[38;5;34m147\u001b[0m, \u001b[38;5;34m64\u001b[0m)        │          \u001b[38;5;34m36,928\u001b[0m │\n",
       "├──────────────────────────────────────┼─────────────────────────────┼─────────────────┤\n",
       "│ max_pooling2d_1 (\u001b[38;5;33mMaxPooling2D\u001b[0m)       │ (\u001b[38;5;45mNone\u001b[0m, \u001b[38;5;34m56\u001b[0m, \u001b[38;5;34m73\u001b[0m, \u001b[38;5;34m64\u001b[0m)          │               \u001b[38;5;34m0\u001b[0m │\n",
       "├──────────────────────────────────────┼─────────────────────────────┼─────────────────┤\n",
       "│ dropout_1 (\u001b[38;5;33mDropout\u001b[0m)                  │ (\u001b[38;5;45mNone\u001b[0m, \u001b[38;5;34m56\u001b[0m, \u001b[38;5;34m73\u001b[0m, \u001b[38;5;34m64\u001b[0m)          │               \u001b[38;5;34m0\u001b[0m │\n",
       "├──────────────────────────────────────┼─────────────────────────────┼─────────────────┤\n",
       "│ conv2d_4 (\u001b[38;5;33mConv2D\u001b[0m)                    │ (\u001b[38;5;45mNone\u001b[0m, \u001b[38;5;34m56\u001b[0m, \u001b[38;5;34m73\u001b[0m, \u001b[38;5;34m128\u001b[0m)         │          \u001b[38;5;34m73,856\u001b[0m │\n",
       "├──────────────────────────────────────┼─────────────────────────────┼─────────────────┤\n",
       "│ conv2d_5 (\u001b[38;5;33mConv2D\u001b[0m)                    │ (\u001b[38;5;45mNone\u001b[0m, \u001b[38;5;34m56\u001b[0m, \u001b[38;5;34m73\u001b[0m, \u001b[38;5;34m128\u001b[0m)         │         \u001b[38;5;34m147,584\u001b[0m │\n",
       "├──────────────────────────────────────┼─────────────────────────────┼─────────────────┤\n",
       "│ max_pooling2d_2 (\u001b[38;5;33mMaxPooling2D\u001b[0m)       │ (\u001b[38;5;45mNone\u001b[0m, \u001b[38;5;34m28\u001b[0m, \u001b[38;5;34m36\u001b[0m, \u001b[38;5;34m128\u001b[0m)         │               \u001b[38;5;34m0\u001b[0m │\n",
       "├──────────────────────────────────────┼─────────────────────────────┼─────────────────┤\n",
       "│ dropout_2 (\u001b[38;5;33mDropout\u001b[0m)                  │ (\u001b[38;5;45mNone\u001b[0m, \u001b[38;5;34m28\u001b[0m, \u001b[38;5;34m36\u001b[0m, \u001b[38;5;34m128\u001b[0m)         │               \u001b[38;5;34m0\u001b[0m │\n",
       "├──────────────────────────────────────┼─────────────────────────────┼─────────────────┤\n",
       "│ conv2d_6 (\u001b[38;5;33mConv2D\u001b[0m)                    │ (\u001b[38;5;45mNone\u001b[0m, \u001b[38;5;34m28\u001b[0m, \u001b[38;5;34m36\u001b[0m, \u001b[38;5;34m256\u001b[0m)         │         \u001b[38;5;34m295,168\u001b[0m │\n",
       "├──────────────────────────────────────┼─────────────────────────────┼─────────────────┤\n",
       "│ conv2d_7 (\u001b[38;5;33mConv2D\u001b[0m)                    │ (\u001b[38;5;45mNone\u001b[0m, \u001b[38;5;34m28\u001b[0m, \u001b[38;5;34m36\u001b[0m, \u001b[38;5;34m256\u001b[0m)         │         \u001b[38;5;34m590,080\u001b[0m │\n",
       "├──────────────────────────────────────┼─────────────────────────────┼─────────────────┤\n",
       "│ max_pooling2d_3 (\u001b[38;5;33mMaxPooling2D\u001b[0m)       │ (\u001b[38;5;45mNone\u001b[0m, \u001b[38;5;34m14\u001b[0m, \u001b[38;5;34m18\u001b[0m, \u001b[38;5;34m256\u001b[0m)         │               \u001b[38;5;34m0\u001b[0m │\n",
       "├──────────────────────────────────────┼─────────────────────────────┼─────────────────┤\n",
       "│ dropout_3 (\u001b[38;5;33mDropout\u001b[0m)                  │ (\u001b[38;5;45mNone\u001b[0m, \u001b[38;5;34m14\u001b[0m, \u001b[38;5;34m18\u001b[0m, \u001b[38;5;34m256\u001b[0m)         │               \u001b[38;5;34m0\u001b[0m │\n",
       "├──────────────────────────────────────┼─────────────────────────────┼─────────────────┤\n",
       "│ flatten (\u001b[38;5;33mFlatten\u001b[0m)                    │ (\u001b[38;5;45mNone\u001b[0m, \u001b[38;5;34m64512\u001b[0m)               │               \u001b[38;5;34m0\u001b[0m │\n",
       "├──────────────────────────────────────┼─────────────────────────────┼─────────────────┤\n",
       "│ dense (\u001b[38;5;33mDense\u001b[0m)                        │ (\u001b[38;5;45mNone\u001b[0m, \u001b[38;5;34m512\u001b[0m)                 │      \u001b[38;5;34m33,030,656\u001b[0m │\n",
       "├──────────────────────────────────────┼─────────────────────────────┼─────────────────┤\n",
       "│ dropout_4 (\u001b[38;5;33mDropout\u001b[0m)                  │ (\u001b[38;5;45mNone\u001b[0m, \u001b[38;5;34m512\u001b[0m)                 │               \u001b[38;5;34m0\u001b[0m │\n",
       "├──────────────────────────────────────┼─────────────────────────────┼─────────────────┤\n",
       "│ dense_1 (\u001b[38;5;33mDense\u001b[0m)                      │ (\u001b[38;5;45mNone\u001b[0m, \u001b[38;5;34m2\u001b[0m)                   │           \u001b[38;5;34m1,026\u001b[0m │\n",
       "└──────────────────────────────────────┴─────────────────────────────┴─────────────────┘\n"
      ]
     },
     "metadata": {},
     "output_type": "display_data"
    },
    {
     "data": {
      "text/html": [
       "<pre style=\"white-space:pre;overflow-x:auto;line-height:normal;font-family:Menlo,'DejaVu Sans Mono',consolas,'Courier New',monospace\"><span style=\"font-weight: bold\"> Total params: </span><span style=\"color: #00af00; text-decoration-color: #00af00\">34,203,938</span> (130.48 MB)\n",
       "</pre>\n"
      ],
      "text/plain": [
       "\u001b[1m Total params: \u001b[0m\u001b[38;5;34m34,203,938\u001b[0m (130.48 MB)\n"
      ]
     },
     "metadata": {},
     "output_type": "display_data"
    },
    {
     "data": {
      "text/html": [
       "<pre style=\"white-space:pre;overflow-x:auto;line-height:normal;font-family:Menlo,'DejaVu Sans Mono',consolas,'Courier New',monospace\"><span style=\"font-weight: bold\"> Trainable params: </span><span style=\"color: #00af00; text-decoration-color: #00af00\">34,203,938</span> (130.48 MB)\n",
       "</pre>\n"
      ],
      "text/plain": [
       "\u001b[1m Trainable params: \u001b[0m\u001b[38;5;34m34,203,938\u001b[0m (130.48 MB)\n"
      ]
     },
     "metadata": {},
     "output_type": "display_data"
    },
    {
     "data": {
      "text/html": [
       "<pre style=\"white-space:pre;overflow-x:auto;line-height:normal;font-family:Menlo,'DejaVu Sans Mono',consolas,'Courier New',monospace\"><span style=\"font-weight: bold\"> Non-trainable params: </span><span style=\"color: #00af00; text-decoration-color: #00af00\">0</span> (0.00 B)\n",
       "</pre>\n"
      ],
      "text/plain": [
       "\u001b[1m Non-trainable params: \u001b[0m\u001b[38;5;34m0\u001b[0m (0.00 B)\n"
      ]
     },
     "metadata": {},
     "output_type": "display_data"
    }
   ],
   "source": [
    "model = models.Sequential([\n",
    "    Input(shape=(224, 294, 3)),  \n",
    "    layers.Conv2D(32, (3,3), activation='relu', padding='same'),\n",
    "    layers.Conv2D(32, (3,3), activation='relu', padding='same'),\n",
    "    layers.MaxPooling2D((2,2)),\n",
    "    layers.Dropout(0.25),\n",
    "\n",
    "    layers.Conv2D(64, (3,3), activation='relu', padding='same'),\n",
    "    layers.Conv2D(64, (3,3), activation='relu', padding='same'),\n",
    "    layers.MaxPooling2D((2,2)),\n",
    "    layers.Dropout(0.25),\n",
    "\n",
    "    layers.Conv2D(128, (3,3), activation='relu', padding='same'),\n",
    "    layers.Conv2D(128, (3,3), activation='relu', padding='same'),\n",
    "    layers.MaxPooling2D((2,2)),\n",
    "    layers.Dropout(0.25),\n",
    "\n",
    "    layers.Conv2D(256, (3,3), activation='relu', padding='same'),\n",
    "    layers.Conv2D(256, (3,3), activation='relu', padding='same'),\n",
    "    layers.MaxPooling2D((2,2)),\n",
    "    layers.Dropout(0.25),\n",
    "\n",
    "    layers.Flatten(),\n",
    "    layers.Dense(512, activation='relu'),\n",
    "    layers.Dropout(0.5),\n",
    "    layers.Dense(2, activation='softmax')  # Sửa lại số lớp đầu ra\n",
    "])\n",
    "\n",
    "model.compile(optimizer='adam',\n",
    "              loss='categorical_crossentropy',\n",
    "              metrics=['accuracy'])\n",
    "\n",
    "model.summary()"
   ]
  },
  {
   "cell_type": "markdown",
   "id": "4647ca14",
   "metadata": {
    "papermill": {
     "duration": 0.004627,
     "end_time": "2025-03-21T20:50:23.564592",
     "exception": false,
     "start_time": "2025-03-21T20:50:23.559965",
     "status": "completed"
    },
    "tags": []
   },
   "source": [
    "# **Huấn luyện mô hình**"
   ]
  },
  {
   "cell_type": "code",
   "execution_count": 12,
   "id": "4385d427",
   "metadata": {
    "execution": {
     "iopub.execute_input": "2025-03-21T20:50:23.575226Z",
     "iopub.status.busy": "2025-03-21T20:50:23.574940Z",
     "iopub.status.idle": "2025-03-21T21:03:42.247182Z",
     "shell.execute_reply": "2025-03-21T21:03:42.246229Z"
    },
    "papermill": {
     "duration": 798.739585,
     "end_time": "2025-03-21T21:03:42.309120",
     "exception": false,
     "start_time": "2025-03-21T20:50:23.569535",
     "status": "completed"
    },
    "tags": []
   },
   "outputs": [
    {
     "name": "stdout",
     "output_type": "stream",
     "text": [
      "Epoch 1/20\n"
     ]
    },
    {
     "name": "stderr",
     "output_type": "stream",
     "text": [
      "/usr/local/lib/python3.10/dist-packages/keras/src/trainers/data_adapters/py_dataset_adapter.py:122: UserWarning: Your `PyDataset` class should call `super().__init__(**kwargs)` in its constructor. `**kwargs` can include `workers`, `use_multiprocessing`, `max_queue_size`. Do not pass these arguments to `fit()`, as they will be ignored.\n",
      "  self._warn_if_super_not_called()\n"
     ]
    },
    {
     "name": "stdout",
     "output_type": "stream",
     "text": [
      "\u001b[1m66/66\u001b[0m \u001b[32m━━━━━━━━━━━━━━━━━━━━\u001b[0m\u001b[37m\u001b[0m \u001b[1m96s\u001b[0m 971ms/step - accuracy: 0.7837 - loss: 0.3938 - val_accuracy: 0.6088 - val_loss: 0.9986\n",
      "Epoch 2/20\n",
      "\u001b[1m66/66\u001b[0m \u001b[32m━━━━━━━━━━━━━━━━━━━━\u001b[0m\u001b[37m\u001b[0m \u001b[1m36s\u001b[0m 503ms/step - accuracy: 0.9575 - loss: 0.1609 - val_accuracy: 0.5210 - val_loss: 1.8327\n",
      "Epoch 3/20\n",
      "\u001b[1m66/66\u001b[0m \u001b[32m━━━━━━━━━━━━━━━━━━━━\u001b[0m\u001b[37m\u001b[0m \u001b[1m37s\u001b[0m 521ms/step - accuracy: 0.9764 - loss: 0.0880 - val_accuracy: 0.9885 - val_loss: 0.0940\n",
      "Epoch 4/20\n",
      "\u001b[1m66/66\u001b[0m \u001b[32m━━━━━━━━━━━━━━━━━━━━\u001b[0m\u001b[37m\u001b[0m \u001b[1m37s\u001b[0m 522ms/step - accuracy: 0.9769 - loss: 0.0834 - val_accuracy: 0.9637 - val_loss: 0.1897\n",
      "Epoch 5/20\n",
      "\u001b[1m66/66\u001b[0m \u001b[32m━━━━━━━━━━━━━━━━━━━━\u001b[0m\u001b[37m\u001b[0m \u001b[1m38s\u001b[0m 529ms/step - accuracy: 0.9424 - loss: 0.2893 - val_accuracy: 0.9618 - val_loss: 0.1464\n",
      "Epoch 6/20\n",
      "\u001b[1m66/66\u001b[0m \u001b[32m━━━━━━━━━━━━━━━━━━━━\u001b[0m\u001b[37m\u001b[0m \u001b[1m38s\u001b[0m 526ms/step - accuracy: 0.9737 - loss: 0.0808 - val_accuracy: 0.9198 - val_loss: 0.1942\n",
      "Epoch 7/20\n",
      "\u001b[1m66/66\u001b[0m \u001b[32m━━━━━━━━━━━━━━━━━━━━\u001b[0m\u001b[37m\u001b[0m \u001b[1m37s\u001b[0m 519ms/step - accuracy: 0.9816 - loss: 0.0779 - val_accuracy: 0.9866 - val_loss: 0.0836\n",
      "Epoch 8/20\n",
      "\u001b[1m66/66\u001b[0m \u001b[32m━━━━━━━━━━━━━━━━━━━━\u001b[0m\u001b[37m\u001b[0m \u001b[1m38s\u001b[0m 528ms/step - accuracy: 0.9871 - loss: 0.0382 - val_accuracy: 0.7061 - val_loss: 1.1617\n",
      "Epoch 9/20\n",
      "\u001b[1m66/66\u001b[0m \u001b[32m━━━━━━━━━━━━━━━━━━━━\u001b[0m\u001b[37m\u001b[0m \u001b[1m37s\u001b[0m 518ms/step - accuracy: 0.9790 - loss: 0.0799 - val_accuracy: 0.5840 - val_loss: 2.1061\n",
      "Epoch 10/20\n",
      "\u001b[1m66/66\u001b[0m \u001b[32m━━━━━━━━━━━━━━━━━━━━\u001b[0m\u001b[37m\u001b[0m \u001b[1m37s\u001b[0m 509ms/step - accuracy: 0.9750 - loss: 0.1129 - val_accuracy: 0.8569 - val_loss: 0.3196\n",
      "Epoch 11/20\n",
      "\u001b[1m66/66\u001b[0m \u001b[32m━━━━━━━━━━━━━━━━━━━━\u001b[0m\u001b[37m\u001b[0m \u001b[1m37s\u001b[0m 507ms/step - accuracy: 0.9900 - loss: 0.0427 - val_accuracy: 0.7500 - val_loss: 0.6305\n",
      "Epoch 12/20\n",
      "\u001b[1m66/66\u001b[0m \u001b[32m━━━━━━━━━━━━━━━━━━━━\u001b[0m\u001b[37m\u001b[0m \u001b[1m36s\u001b[0m 498ms/step - accuracy: 0.9885 - loss: 0.0628 - val_accuracy: 0.5592 - val_loss: 2.0773\n",
      "Epoch 13/20\n",
      "\u001b[1m66/66\u001b[0m \u001b[32m━━━━━━━━━━━━━━━━━━━━\u001b[0m\u001b[37m\u001b[0m \u001b[1m37s\u001b[0m 515ms/step - accuracy: 0.9639 - loss: 0.1684 - val_accuracy: 0.5057 - val_loss: 1.2860\n",
      "Epoch 14/20\n",
      "\u001b[1m66/66\u001b[0m \u001b[32m━━━━━━━━━━━━━━━━━━━━\u001b[0m\u001b[37m\u001b[0m \u001b[1m37s\u001b[0m 522ms/step - accuracy: 0.9840 - loss: 0.0546 - val_accuracy: 0.7672 - val_loss: 0.5688\n",
      "Epoch 15/20\n",
      "\u001b[1m66/66\u001b[0m \u001b[32m━━━━━━━━━━━━━━━━━━━━\u001b[0m\u001b[37m\u001b[0m \u001b[1m36s\u001b[0m 504ms/step - accuracy: 0.9870 - loss: 0.0470 - val_accuracy: 0.9580 - val_loss: 0.1284\n",
      "Epoch 16/20\n",
      "\u001b[1m66/66\u001b[0m \u001b[32m━━━━━━━━━━━━━━━━━━━━\u001b[0m\u001b[37m\u001b[0m \u001b[1m37s\u001b[0m 507ms/step - accuracy: 0.9815 - loss: 0.0586 - val_accuracy: 0.9294 - val_loss: 0.1901\n",
      "Epoch 17/20\n",
      "\u001b[1m66/66\u001b[0m \u001b[32m━━━━━━━━━━━━━━━━━━━━\u001b[0m\u001b[37m\u001b[0m \u001b[1m36s\u001b[0m 502ms/step - accuracy: 0.9862 - loss: 0.0617 - val_accuracy: 0.9141 - val_loss: 0.2539\n",
      "Epoch 18/20\n",
      "\u001b[1m66/66\u001b[0m \u001b[32m━━━━━━━━━━━━━━━━━━━━\u001b[0m\u001b[37m\u001b[0m \u001b[1m37s\u001b[0m 508ms/step - accuracy: 0.9941 - loss: 0.0205 - val_accuracy: 0.7004 - val_loss: 1.0533\n",
      "Epoch 19/20\n",
      "\u001b[1m66/66\u001b[0m \u001b[32m━━━━━━━━━━━━━━━━━━━━\u001b[0m\u001b[37m\u001b[0m \u001b[1m36s\u001b[0m 505ms/step - accuracy: 0.9905 - loss: 0.0299 - val_accuracy: 0.9905 - val_loss: 0.0454\n",
      "Epoch 20/20\n",
      "\u001b[1m66/66\u001b[0m \u001b[32m━━━━━━━━━━━━━━━━━━━━\u001b[0m\u001b[37m\u001b[0m \u001b[1m37s\u001b[0m 511ms/step - accuracy: 0.9864 - loss: 0.0544 - val_accuracy: 0.8225 - val_loss: 0.5189\n"
     ]
    },
    {
     "data": {
      "text/plain": [
       "<keras.src.callbacks.history.History at 0x7af920cc49a0>"
      ]
     },
     "execution_count": 12,
     "metadata": {},
     "output_type": "execute_result"
    }
   ],
   "source": [
    "model.fit(train_generator,\n",
    "          epochs=20,\n",
    "          validation_data=val_generator)"
   ]
  },
  {
   "cell_type": "code",
   "execution_count": 13,
   "id": "b41d07cb",
   "metadata": {
    "execution": {
     "iopub.execute_input": "2025-03-21T21:03:42.443042Z",
     "iopub.status.busy": "2025-03-21T21:03:42.442758Z",
     "iopub.status.idle": "2025-03-21T21:03:43.463544Z",
     "shell.execute_reply": "2025-03-21T21:03:43.462844Z"
    },
    "papermill": {
     "duration": 1.089689,
     "end_time": "2025-03-21T21:03:43.465211",
     "exception": false,
     "start_time": "2025-03-21T21:03:42.375522",
     "status": "completed"
    },
    "tags": []
   },
   "outputs": [],
   "source": [
    "# Lưu mô hình hoàn chỉnh (bao gồm cả cấu trúc, trọng số và trạng thái huấn luyện)\n",
    "model.save('model.h5')"
   ]
  },
  {
   "cell_type": "code",
   "execution_count": 14,
   "id": "faf6e038",
   "metadata": {
    "execution": {
     "iopub.execute_input": "2025-03-21T21:03:43.603732Z",
     "iopub.status.busy": "2025-03-21T21:03:43.603401Z",
     "iopub.status.idle": "2025-03-21T21:03:44.122898Z",
     "shell.execute_reply": "2025-03-21T21:03:44.121973Z"
    },
    "papermill": {
     "duration": 0.589231,
     "end_time": "2025-03-21T21:03:44.124360",
     "exception": false,
     "start_time": "2025-03-21T21:03:43.535129",
     "status": "completed"
    },
    "tags": []
   },
   "outputs": [],
   "source": [
    "from tensorflow.keras.models import load_model\n",
    "model = load_model('model.h5')"
   ]
  }
 ],
 "metadata": {
  "kaggle": {
   "accelerator": "nvidiaTeslaT4",
   "dataSources": [
    {
     "datasetId": 6711261,
     "sourceId": 10999905,
     "sourceType": "datasetVersion"
    }
   ],
   "dockerImageVersionId": 30918,
   "isGpuEnabled": true,
   "isInternetEnabled": true,
   "language": "python",
   "sourceType": "notebook"
  },
  "kernelspec": {
   "display_name": "Python 3",
   "language": "python",
   "name": "python3"
  },
  "language_info": {
   "codemirror_mode": {
    "name": "ipython",
    "version": 3
   },
   "file_extension": ".py",
   "mimetype": "text/x-python",
   "name": "python",
   "nbconvert_exporter": "python",
   "pygments_lexer": "ipython3",
   "version": "3.10.12"
  },
  "papermill": {
   "default_parameters": {},
   "duration": 901.278529,
   "end_time": "2025-03-21T21:03:47.071527",
   "environment_variables": {},
   "exception": null,
   "input_path": "__notebook__.ipynb",
   "output_path": "__notebook__.ipynb",
   "parameters": {},
   "start_time": "2025-03-21T20:48:45.792998",
   "version": "2.6.0"
  }
 },
 "nbformat": 4,
 "nbformat_minor": 5
}
